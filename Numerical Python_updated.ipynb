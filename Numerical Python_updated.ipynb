{
 "cells": [
  {
   "cell_type": "markdown",
   "metadata": {
    "id": "OGHbh2ckuY0_"
   },
   "source": [
    "# Numpy->Numerical Python\n",
    "* foundations for mathematical prob,scientic,numerical prob,\n",
    "* homo multidimensional array\n",
    "#### Topics\n",
    "* Creation of 1D,2D,3D Arrays\n",
    "* Attributes -> ndim,size,dtype,shape,type\n",
    "* Methods->arange,linspace,ravel,random\n",
    "* Stacking->hstack,vstack\n",
    "* Splitting-> hsplit,vsplit\n",
    "* Broadcasting, Boolean masking \n",
    "* Others-> zeros,ones,eye,max,min,copy"
   ]
  },
  {
   "cell_type": "code",
   "execution_count": 1,
   "metadata": {
    "scrolled": true
   },
   "outputs": [
    {
     "name": "stdout",
     "output_type": "stream",
     "text": [
      "Requirement already satisfied: numpy in c:\\users\\user\\anaconda3\\lib\\site-packages (1.18.5)\n"
     ]
    }
   ],
   "source": [
    "## installation of package\n",
    "!pip install numpy"
   ]
  },
  {
   "cell_type": "code",
   "execution_count": 2,
   "metadata": {
    "id": "0YUDKaQUuY1A"
   },
   "outputs": [],
   "source": [
    "## importing the library\n",
    "import numpy  as np"
   ]
  },
  {
   "cell_type": "code",
   "execution_count": 3,
   "metadata": {
    "scrolled": true
   },
   "outputs": [
    {
     "name": "stdout",
     "output_type": "stream",
     "text": [
      "1.18.5\n"
     ]
    }
   ],
   "source": [
    "## Getting version\n",
    "\n",
    "print(np.__version__)"
   ]
  },
  {
   "cell_type": "code",
   "execution_count": 12,
   "metadata": {},
   "outputs": [
    {
     "data": {
      "text/plain": [
       "array(1)"
      ]
     },
     "execution_count": 12,
     "metadata": {},
     "output_type": "execute_result"
    }
   ],
   "source": [
    "## Array creation with 0 dim\n",
    "arr=np.array(1) ## array with Zero dimension -->point\n",
    "arr"
   ]
  },
  {
   "cell_type": "code",
   "execution_count": 13,
   "metadata": {
    "id": "ojgiF3aAuY1B",
    "outputId": "aeb708e1-5270-491e-b710-3c78cff0f587"
   },
   "outputs": [
    {
     "data": {
      "text/plain": [
       "array([3, 4, 5, 8, 9])"
      ]
     },
     "execution_count": 13,
     "metadata": {},
     "output_type": "execute_result"
    }
   ],
   "source": [
    "#Create a 1D array\n",
    "d1 = np.array([3,4,5,8,9])\n",
    "d1"
   ]
  },
  {
   "cell_type": "code",
   "execution_count": 14,
   "metadata": {
    "id": "gBZQMjXauY1C",
    "outputId": "6086a7f6-64e8-45b0-e7eb-0b5b9cf6f4da",
    "scrolled": true
   },
   "outputs": [
    {
     "name": "stdout",
     "output_type": "stream",
     "text": [
      "The dimension 1\n",
      "The size 5\n",
      "The datatype int32\n",
      "The type <class 'numpy.ndarray'>\n",
      "Shape (5,)\n"
     ]
    }
   ],
   "source": [
    "## Array summary\n",
    "print(\"The dimension\",d1.ndim)\n",
    "print(\"The size\",d1.size)\n",
    "print(\"The datatype\",d1.dtype)\n",
    "print(\"The type\",type(d1))\n",
    "print(\"Shape\",d1.shape)"
   ]
  },
  {
   "cell_type": "code",
   "execution_count": 22,
   "metadata": {},
   "outputs": [
    {
     "data": {
      "text/plain": [
       "list"
      ]
     },
     "execution_count": 22,
     "metadata": {},
     "output_type": "execute_result"
    }
   ],
   "source": [
    "a_tuple = ([(15 , 23, 3)])\n",
    "type(a_tuple)\n"
   ]
  },
  {
   "cell_type": "code",
   "execution_count": 28,
   "metadata": {},
   "outputs": [
    {
     "data": {
      "text/plain": [
       "array([15, 23,  3])"
      ]
     },
     "execution_count": 28,
     "metadata": {},
     "output_type": "execute_result"
    }
   ],
   "source": [
    "a_tuple =np.array((15 , 23, 3))\n",
    "a_tuple\n",
    "\n"
   ]
  },
  {
   "cell_type": "code",
   "execution_count": 29,
   "metadata": {
    "id": "HyVDea4AuY1D",
    "outputId": "153e1335-2d08-449d-f0e6-4fdf7bcc066f"
   },
   "outputs": [
    {
     "data": {
      "text/plain": [
       "array([[1, 2, 3],\n",
       "       [3, 4, 7]])"
      ]
     },
     "execution_count": 29,
     "metadata": {},
     "output_type": "execute_result"
    }
   ],
   "source": [
    "#CREAte 2D array\n",
    "d2 = np.array([[1,2,3],[3,4,7]])\n",
    "d2"
   ]
  },
  {
   "cell_type": "code",
   "execution_count": null,
   "metadata": {
    "id": "iaeld3BiuY1E",
    "outputId": "1550d0ee-2490-451a-96e1-07f4d3e40eea"
   },
   "outputs": [],
   "source": [
    "print(\"The shape is\",d2.shape)"
   ]
  },
  {
   "cell_type": "code",
   "execution_count": null,
   "metadata": {
    "id": "iQjIFn07uY1E",
    "outputId": "a2d1fb3b-b280-46b6-b01e-09d3b9d1e31c"
   },
   "outputs": [],
   "source": [
    "print(\"The dimension\",d2.ndim)\n",
    "print(\"The size\",d2.size)\n",
    "print(\"The datatype\",d2.dtype)\n",
    "print(\"The type\",type(d2))"
   ]
  },
  {
   "cell_type": "code",
   "execution_count": 30,
   "metadata": {},
   "outputs": [
    {
     "data": {
      "text/plain": [
       "array([[ 1,  2,  3],\n",
       "       [ 4,  5,  6],\n",
       "       [ 7,  8,  9],\n",
       "       [10, 11, 12]])"
      ]
     },
     "execution_count": 30,
     "metadata": {},
     "output_type": "execute_result"
    }
   ],
   "source": [
    "arr_2=np.array([[1,2,3],[4,5,6],[7,8,9],[10,11,12,]])\n",
    "arr_2\n"
   ]
  },
  {
   "cell_type": "code",
   "execution_count": 31,
   "metadata": {
    "id": "OruWKjyxuY1F",
    "outputId": "0a366921-5e2d-4791-944f-25aec2f40fe0"
   },
   "outputs": [
    {
     "data": {
      "text/plain": [
       "array([[[1, 2],\n",
       "        [2, 3],\n",
       "        [3, 4]],\n",
       "\n",
       "       [[4, 5],\n",
       "        [5, 6],\n",
       "        [6, 7]]])"
      ]
     },
     "execution_count": 31,
     "metadata": {},
     "output_type": "execute_result"
    }
   ],
   "source": [
    "#Creating a 3D Array\n",
    "d3 = np.array([[[1,2],[2,3],[3,4]],[[4,5],[5,6],[6,7]]])\n",
    "d3"
   ]
  },
  {
   "cell_type": "code",
   "execution_count": 32,
   "metadata": {
    "id": "7o7S84tauY1G",
    "outputId": "474e4168-18ca-4bb2-8550-a0fd36929f25"
   },
   "outputs": [
    {
     "name": "stdout",
     "output_type": "stream",
     "text": [
      "The dimension 3\n",
      "The size 12\n",
      "The datatype int32\n",
      "The type <class 'numpy.ndarray'>\n",
      "The shape is (2, 3, 2)\n"
     ]
    }
   ],
   "source": [
    "print(\"The dimension\",d3.ndim)\n",
    "print(\"The size\",d3.size)\n",
    "print(\"The datatype\",d3.dtype)\n",
    "print(\"The type\",type(d3))\n",
    "print(\"The shape is\",d3.shape) #(3d,2d,1d)"
   ]
  },
  {
   "cell_type": "markdown",
   "metadata": {
    "id": "N7_a2zoruY1H"
   },
   "source": [
    "# Methods\n",
    "* arange->similar to range\n",
    "* linspace\n",
    "* ravel\n",
    "* random"
   ]
  },
  {
   "cell_type": "code",
   "execution_count": 35,
   "metadata": {
    "id": "7FS1gqXAuY1H",
    "outputId": "1c062627-d94e-4b4f-a5fd-7b981b594bca"
   },
   "outputs": [
    {
     "data": {
      "text/plain": [
       "array([0, 1, 2, 3, 4])"
      ]
     },
     "execution_count": 35,
     "metadata": {},
     "output_type": "execute_result"
    }
   ],
   "source": [
    "np.arange(5) #stop"
   ]
  },
  {
   "cell_type": "code",
   "execution_count": 36,
   "metadata": {
    "id": "thsF4iYHuY1I",
    "outputId": "06b36157-acab-4fc4-ec41-91499df3a91d"
   },
   "outputs": [
    {
     "data": {
      "text/plain": [
       "array([1, 2, 3, 4])"
      ]
     },
     "execution_count": 36,
     "metadata": {},
     "output_type": "execute_result"
    }
   ],
   "source": [
    "np.arange(1,5) # start,stop"
   ]
  },
  {
   "cell_type": "code",
   "execution_count": 37,
   "metadata": {
    "id": "OhW9G6p9uY1I",
    "outputId": "776c37ec-95f6-4b8b-f464-309bcbef084b"
   },
   "outputs": [
    {
     "data": {
      "text/plain": [
       "array([1, 3, 5, 7, 9])"
      ]
     },
     "execution_count": 37,
     "metadata": {},
     "output_type": "execute_result"
    }
   ],
   "source": [
    "np.arange(1,10,2) #start,stop,step"
   ]
  },
  {
   "cell_type": "code",
   "execution_count": null,
   "metadata": {
    "id": "Giv_OyoBuY1K",
    "outputId": "59d118a4-15d4-440f-a103-a9f7e7dfe5db"
   },
   "outputs": [],
   "source": [
    "np.arange(50,100,5)"
   ]
  },
  {
   "cell_type": "code",
   "execution_count": 43,
   "metadata": {
    "collapsed": true,
    "id": "X2pfbOUOuY1L",
    "outputId": "d77b345d-f39e-4d5f-b0cc-d1d3f8459cde"
   },
   "outputs": [
    {
     "data": {
      "text/plain": [
       "array([[50, 55],\n",
       "       [60, 65],\n",
       "       [70, 75],\n",
       "       [80, 85],\n",
       "       [90, 95]])"
      ]
     },
     "execution_count": 43,
     "metadata": {},
     "output_type": "execute_result"
    }
   ],
   "source": [
    "np.arange(50,100,5).reshape(5,2)  ##5 rows and 2 columns"
   ]
  },
  {
   "cell_type": "code",
   "execution_count": null,
   "metadata": {
    "id": "oH2ka74kuY1L",
    "outputId": "3fc96ba5-1a6a-4cac-9e58-f0d41b294826",
    "scrolled": true
   },
   "outputs": [],
   "source": [
    "np.arange(50,100,5).reshape(5,2)"
   ]
  },
  {
   "cell_type": "code",
   "execution_count": 44,
   "metadata": {
    "id": "hlj2KumkuY1M",
    "outputId": "ebb36709-3bb2-405c-81cf-03e909ea247a",
    "scrolled": true
   },
   "outputs": [
    {
     "data": {
      "text/plain": [
       "array([[[50, 55]],\n",
       "\n",
       "       [[60, 65]],\n",
       "\n",
       "       [[70, 75]],\n",
       "\n",
       "       [[80, 85]],\n",
       "\n",
       "       [[90, 95]]])"
      ]
     },
     "execution_count": 44,
     "metadata": {},
     "output_type": "execute_result"
    }
   ],
   "source": [
    "np.arange(50,100,5).reshape(5,1,2) ## reshaping to 3rd dimension"
   ]
  },
  {
   "cell_type": "code",
   "execution_count": 45,
   "metadata": {
    "id": "WugT5mUjuY1N",
    "outputId": "7bb5503b-7849-4453-b115-7faa18bd409d"
   },
   "outputs": [
    {
     "data": {
      "text/plain": [
       "array([[[[50, 55, 60, 65, 70],\n",
       "         [75, 80, 85, 90, 95]]]])"
      ]
     },
     "execution_count": 45,
     "metadata": {},
     "output_type": "execute_result"
    }
   ],
   "source": [
    "np.arange(50,100,5).reshape(1,1,2,5) ## reshaping to 4 the dimension"
   ]
  },
  {
   "cell_type": "code",
   "execution_count": 47,
   "metadata": {
    "collapsed": true,
    "id": "S84FMABEuY1N",
    "outputId": "c08889d4-588c-4671-a813-0a566ad6027e"
   },
   "outputs": [
    {
     "ename": "ValueError",
     "evalue": "cannot reshape array of size 16 into shape (3,5)",
     "output_type": "error",
     "traceback": [
      "\u001b[1;31m---------------------------------------------------------------------------\u001b[0m",
      "\u001b[1;31mValueError\u001b[0m                                Traceback (most recent call last)",
      "\u001b[1;32m<ipython-input-47-ff232c57558e>\u001b[0m in \u001b[0;36m<module>\u001b[1;34m\u001b[0m\n\u001b[1;32m----> 1\u001b[1;33m \u001b[0mnp\u001b[0m\u001b[1;33m.\u001b[0m\u001b[0marange\u001b[0m\u001b[1;33m(\u001b[0m\u001b[1;36m1\u001b[0m\u001b[1;33m,\u001b[0m\u001b[1;36m17\u001b[0m\u001b[1;33m)\u001b[0m\u001b[1;33m.\u001b[0m\u001b[0mreshape\u001b[0m\u001b[1;33m(\u001b[0m\u001b[1;36m3\u001b[0m\u001b[1;33m,\u001b[0m\u001b[1;36m5\u001b[0m\u001b[1;33m)\u001b[0m\u001b[1;33m\u001b[0m\u001b[1;33m\u001b[0m\u001b[0m\n\u001b[0m",
      "\u001b[1;31mValueError\u001b[0m: cannot reshape array of size 16 into shape (3,5)"
     ]
    }
   ],
   "source": [
    "np.arange(1,17).reshape(3,5)"
   ]
  },
  {
   "cell_type": "code",
   "execution_count": 55,
   "metadata": {
    "collapsed": true,
    "id": "wr_v9X05uY1P",
    "outputId": "62345f14-c11a-44d2-9645-0b0e7806a3fe"
   },
   "outputs": [
    {
     "data": {
      "text/plain": [
       "array([ 1.        ,  1.5505618 ,  2.1011236 ,  2.65168539,  3.20224719,\n",
       "        3.75280899,  4.30337079,  4.85393258,  5.40449438,  5.95505618,\n",
       "        6.50561798,  7.05617978,  7.60674157,  8.15730337,  8.70786517,\n",
       "        9.25842697,  9.80898876, 10.35955056, 10.91011236, 11.46067416,\n",
       "       12.01123596, 12.56179775, 13.11235955, 13.66292135, 14.21348315,\n",
       "       14.76404494, 15.31460674, 15.86516854, 16.41573034, 16.96629213,\n",
       "       17.51685393, 18.06741573, 18.61797753, 19.16853933, 19.71910112,\n",
       "       20.26966292, 20.82022472, 21.37078652, 21.92134831, 22.47191011,\n",
       "       23.02247191, 23.57303371, 24.12359551, 24.6741573 , 25.2247191 ,\n",
       "       25.7752809 , 26.3258427 , 26.87640449, 27.42696629, 27.97752809,\n",
       "       28.52808989, 29.07865169, 29.62921348, 30.17977528, 30.73033708,\n",
       "       31.28089888, 31.83146067, 32.38202247, 32.93258427, 33.48314607,\n",
       "       34.03370787, 34.58426966, 35.13483146, 35.68539326, 36.23595506,\n",
       "       36.78651685, 37.33707865, 37.88764045, 38.43820225, 38.98876404,\n",
       "       39.53932584, 40.08988764, 40.64044944, 41.19101124, 41.74157303,\n",
       "       42.29213483, 42.84269663, 43.39325843, 43.94382022, 44.49438202,\n",
       "       45.04494382, 45.59550562, 46.14606742, 46.69662921, 47.24719101,\n",
       "       47.79775281, 48.34831461, 48.8988764 , 49.4494382 , 50.        ])"
      ]
     },
     "execution_count": 55,
     "metadata": {},
     "output_type": "execute_result"
    }
   ],
   "source": [
    "#linspace ->start,stop,no.of elements->(stop-Included)\n",
    "np.linspace(1,50,90)"
   ]
  },
  {
   "cell_type": "code",
   "execution_count": 54,
   "metadata": {
    "collapsed": true,
    "id": "w4Zx4R36uY1P",
    "outputId": "bba98dbf-99ac-4c59-8634-14545084a301"
   },
   "outputs": [
    {
     "data": {
      "text/plain": [
       "(array([ 1.        ,  1.5505618 ,  2.1011236 ,  2.65168539,  3.20224719,\n",
       "         3.75280899,  4.30337079,  4.85393258,  5.40449438,  5.95505618,\n",
       "         6.50561798,  7.05617978,  7.60674157,  8.15730337,  8.70786517,\n",
       "         9.25842697,  9.80898876, 10.35955056, 10.91011236, 11.46067416,\n",
       "        12.01123596, 12.56179775, 13.11235955, 13.66292135, 14.21348315,\n",
       "        14.76404494, 15.31460674, 15.86516854, 16.41573034, 16.96629213,\n",
       "        17.51685393, 18.06741573, 18.61797753, 19.16853933, 19.71910112,\n",
       "        20.26966292, 20.82022472, 21.37078652, 21.92134831, 22.47191011,\n",
       "        23.02247191, 23.57303371, 24.12359551, 24.6741573 , 25.2247191 ,\n",
       "        25.7752809 , 26.3258427 , 26.87640449, 27.42696629, 27.97752809,\n",
       "        28.52808989, 29.07865169, 29.62921348, 30.17977528, 30.73033708,\n",
       "        31.28089888, 31.83146067, 32.38202247, 32.93258427, 33.48314607,\n",
       "        34.03370787, 34.58426966, 35.13483146, 35.68539326, 36.23595506,\n",
       "        36.78651685, 37.33707865, 37.88764045, 38.43820225, 38.98876404,\n",
       "        39.53932584, 40.08988764, 40.64044944, 41.19101124, 41.74157303,\n",
       "        42.29213483, 42.84269663, 43.39325843, 43.94382022, 44.49438202,\n",
       "        45.04494382, 45.59550562, 46.14606742, 46.69662921, 47.24719101,\n",
       "        47.79775281, 48.34831461, 48.8988764 , 49.4494382 , 50.        ]),\n",
       " 0.550561797752809)"
      ]
     },
     "execution_count": 54,
     "metadata": {},
     "output_type": "execute_result"
    }
   ],
   "source": [
    "np.linspace(1,50,90,retstep=True)"
   ]
  },
  {
   "cell_type": "code",
   "execution_count": 57,
   "metadata": {
    "collapsed": true
   },
   "outputs": [
    {
     "data": {
      "text/plain": [
       "array([[[1, 2, 3],\n",
       "        [4, 5, 6],\n",
       "        [1, 2, 5]],\n",
       "\n",
       "       [[7, 8, 9],\n",
       "        [1, 2, 4],\n",
       "        [7, 8, 9]]])"
      ]
     },
     "execution_count": 57,
     "metadata": {},
     "output_type": "execute_result"
    }
   ],
   "source": [
    "D3 = np.array([[[1,2,3],[4,5,6],[1,2,5]],[[7,8,9],[1,2,4],[7,8,9]]])\n",
    "D3\n"
   ]
  },
  {
   "cell_type": "code",
   "execution_count": 91,
   "metadata": {
    "collapsed": true,
    "id": "iXeDskqruY1Q",
    "outputId": "90c48afb-0079-4e9f-fd43-b00a822746cb"
   },
   "outputs": [
    {
     "data": {
      "text/plain": [
       "array([[[ 0,  1],\n",
       "        [ 2,  3],\n",
       "        [ 4,  5],\n",
       "        [ 6,  7],\n",
       "        [ 8,  9]],\n",
       "\n",
       "       [[10, 11],\n",
       "        [12, 13],\n",
       "        [14, 15],\n",
       "        [16, 17],\n",
       "        [18, 19]],\n",
       "\n",
       "       [[20, 21],\n",
       "        [22, 23],\n",
       "        [24, 25],\n",
       "        [26, 27],\n",
       "        [28, 29]],\n",
       "\n",
       "       [[30, 31],\n",
       "        [32, 33],\n",
       "        [34, 35],\n",
       "        [36, 37],\n",
       "        [38, 39]],\n",
       "\n",
       "       [[40, 41],\n",
       "        [42, 43],\n",
       "        [44, 45],\n",
       "        [46, 47],\n",
       "        [48, 49]]])"
      ]
     },
     "execution_count": 91,
     "metadata": {},
     "output_type": "execute_result"
    }
   ],
   "source": [
    "#ravel converts array of any dim to a single (1D )\n",
    "a2 = np.arange(50).reshape(5,5,2)\n",
    "a2"
   ]
  },
  {
   "cell_type": "code",
   "execution_count": 92,
   "metadata": {
    "id": "JZomXIMquY1R",
    "outputId": "cc45fc6b-0def-4905-dabd-8a78689f0de4",
    "scrolled": false
   },
   "outputs": [
    {
     "data": {
      "text/plain": [
       "array([ 0,  1,  2,  3,  4,  5,  6,  7,  8,  9, 10, 11, 12, 13, 14, 15, 16,\n",
       "       17, 18, 19, 20, 21, 22, 23, 24, 25, 26, 27, 28, 29, 30, 31, 32, 33,\n",
       "       34, 35, 36, 37, 38, 39, 40, 41, 42, 43, 44, 45, 46, 47, 48, 49])"
      ]
     },
     "execution_count": 92,
     "metadata": {},
     "output_type": "execute_result"
    }
   ],
   "source": [
    "a2.ravel()"
   ]
  },
  {
   "cell_type": "code",
   "execution_count": null,
   "metadata": {},
   "outputs": [],
   "source": [
    "## create 2d array and convert it into 1 dimesnion"
   ]
  },
  {
   "cell_type": "code",
   "execution_count": 94,
   "metadata": {
    "scrolled": true
   },
   "outputs": [
    {
     "data": {
      "text/plain": [
       "array([[0, 1],\n",
       "       [2, 3],\n",
       "       [4, 5],\n",
       "       [6, 7],\n",
       "       [8, 9]])"
      ]
     },
     "execution_count": 94,
     "metadata": {},
     "output_type": "execute_result"
    }
   ],
   "source": [
    "arr = np.arange(10).reshape(5,2)\n",
    "arr\n",
    "##arr.ravel()\n"
   ]
  },
  {
   "cell_type": "code",
   "execution_count": 95,
   "metadata": {},
   "outputs": [
    {
     "data": {
      "text/plain": [
       "array([10, 22, 31, 13, 42, 72])"
      ]
     },
     "execution_count": 95,
     "metadata": {},
     "output_type": "execute_result"
    }
   ],
   "source": [
    "d2 = np.array([[10,22,31],[13,42,72]])\n",
    "d2.ravel()\n"
   ]
  },
  {
   "cell_type": "code",
   "execution_count": 96,
   "metadata": {},
   "outputs": [
    {
     "data": {
      "text/plain": [
       "array([[0, 1, 2, 3, 4],\n",
       "       [5, 6, 7, 8, 9]])"
      ]
     },
     "execution_count": 96,
     "metadata": {},
     "output_type": "execute_result"
    }
   ],
   "source": [
    "a1=np.arange(10).reshape(2,5)\n",
    "a1\n"
   ]
  },
  {
   "cell_type": "code",
   "execution_count": 97,
   "metadata": {
    "collapsed": true
   },
   "outputs": [
    {
     "data": {
      "text/plain": [
       "array([[ 1,  2,  3,  4],\n",
       "       [ 5,  6,  7,  8],\n",
       "       [ 9, 10, 11, 12]])"
      ]
     },
     "execution_count": 97,
     "metadata": {},
     "output_type": "execute_result"
    }
   ],
   "source": [
    "l1=[1,2,3,4]\n",
    "l2=[5,6,7,8]\n",
    "l3=[9,10,11,12]\n",
    "ar1=np.array([l1,l2,l3])\n",
    "ar1\n",
    "\n"
   ]
  },
  {
   "cell_type": "code",
   "execution_count": 100,
   "metadata": {
    "id": "Ej6WM5lauY1R",
    "outputId": "6b98d0fd-a13a-46c4-f6a2-6fe901997260",
    "scrolled": true
   },
   "outputs": [
    {
     "data": {
      "text/plain": [
       "array([0.49714546, 0.36828226, 0.73098917, 0.41456063, 0.83564321])"
      ]
     },
     "execution_count": 100,
     "metadata": {},
     "output_type": "execute_result"
    }
   ],
   "source": [
    "#random->create random nos->rand->(0,1)\n",
    "np.random.rand(5) "
   ]
  },
  {
   "cell_type": "code",
   "execution_count": 102,
   "metadata": {
    "id": "FA0JT7T-uY1S",
    "outputId": "bc6d4420-aabf-4d8a-b2ed-3846fde174da"
   },
   "outputs": [
    {
     "data": {
      "text/plain": [
       "array([79.57159246,  7.37061553, 30.86417944, 35.29173712, 57.91863709])"
      ]
     },
     "execution_count": 102,
     "metadata": {},
     "output_type": "execute_result"
    }
   ],
   "source": [
    "np.random.rand(5)*100 ##  broadcasting ## mathematical operation element"
   ]
  },
  {
   "cell_type": "code",
   "execution_count": null,
   "metadata": {},
   "outputs": [],
   "source": [
    "print(np.random.rand(5)+100)\n",
    "print(np.random.rand(5)-100)\n",
    "print(np.random.rand(5)/100)\n"
   ]
  },
  {
   "cell_type": "code",
   "execution_count": 111,
   "metadata": {
    "id": "rKXC-Yy-uY1T",
    "outputId": "964eb65d-9e2b-42ed-c377-20498e2a5ab0"
   },
   "outputs": [
    {
     "data": {
      "text/plain": [
       "1"
      ]
     },
     "execution_count": 111,
     "metadata": {},
     "output_type": "execute_result"
    }
   ],
   "source": [
    "np.random.randint(10) #within 5 (Exclude) create 1 int random no"
   ]
  },
  {
   "cell_type": "code",
   "execution_count": 114,
   "metadata": {
    "id": "JAr8wBKkuY1T",
    "outputId": "104701ef-050d-46c6-cbb8-af084da03d43"
   },
   "outputs": [
    {
     "data": {
      "text/plain": [
       "3"
      ]
     },
     "execution_count": 114,
     "metadata": {},
     "output_type": "execute_result"
    }
   ],
   "source": [
    "np.random.randint(1,5)"
   ]
  },
  {
   "cell_type": "code",
   "execution_count": 118,
   "metadata": {
    "id": "hfL2q0mIuY1U",
    "outputId": "f272d6ad-3992-4162-c9ba-c38f914502d6"
   },
   "outputs": [
    {
     "data": {
      "text/plain": [
       "array([[0.01588446, 0.73553857, 0.68288034, 0.86890967, 0.60706353],\n",
       "       [0.8647772 , 0.47616885, 0.75094802, 0.54306106, 0.37457299]])"
      ]
     },
     "execution_count": 118,
     "metadata": {},
     "output_type": "execute_result"
    }
   ],
   "source": [
    "np.random.rand(10).reshape(2,5)"
   ]
  },
  {
   "cell_type": "code",
   "execution_count": null,
   "metadata": {
    "id": "y-mCwGe7uY1U",
    "outputId": "e30fc95a-8642-41b0-eab9-2ff93424c795"
   },
   "outputs": [],
   "source": [
    "np.linspace(1,5,4,retstep=True)"
   ]
  },
  {
   "cell_type": "code",
   "execution_count": 122,
   "metadata": {
    "id": "abMkM1inuY1V",
    "outputId": "df10ee62-f73c-4682-f232-7072599cdc3f"
   },
   "outputs": [
    {
     "data": {
      "text/plain": [
       "(array([ 0,  5, 10, 15, 20, 25, 30, 35, 40, 45, 50]), 5.0)"
      ]
     },
     "execution_count": 122,
     "metadata": {},
     "output_type": "execute_result"
    }
   ],
   "source": [
    "a=np.linspace(0,50,11,retstep=True,dtype=int)\n",
    "a"
   ]
  },
  {
   "cell_type": "code",
   "execution_count": null,
   "metadata": {
    "id": "rQueBYIDuY1V"
   },
   "outputs": [],
   "source": [
    "a=np.linspace(1,50,5)"
   ]
  },
  {
   "cell_type": "code",
   "execution_count": null,
   "metadata": {
    "id": "YiQotr-ouY1W",
    "outputId": "0a2a67ea-1517-49b8-9fc4-e844ae390a9f"
   },
   "outputs": [],
   "source": [
    "a"
   ]
  },
  {
   "cell_type": "code",
   "execution_count": null,
   "metadata": {
    "id": "JMocm6KIuY1W",
    "outputId": "6d3dab19-d4a1-4621-a3e6-120ccd4bc037"
   },
   "outputs": [],
   "source": [
    "type(a)"
   ]
  },
  {
   "cell_type": "code",
   "execution_count": null,
   "metadata": {
    "id": "8HgMBpekuY1X",
    "outputId": "98ae5a58-19ee-4897-f4a9-139a24debe53"
   },
   "outputs": [],
   "source": [
    "a=np.linspace(0,50,11)\n",
    "type(a)\n",
    "a"
   ]
  },
  {
   "cell_type": "code",
   "execution_count": 128,
   "metadata": {
    "scrolled": false
   },
   "outputs": [
    {
     "data": {
      "text/plain": [
       "(array([  0.        ,  11.11111111,  22.22222222,  33.33333333,\n",
       "         44.44444444,  55.55555556,  66.66666667,  77.77777778,\n",
       "         88.88888889, 100.        ]),\n",
       " 11.11111111111111)"
      ]
     },
     "execution_count": 128,
     "metadata": {},
     "output_type": "execute_result"
    }
   ],
   "source": [
    "b=np.linspace(0,100,10,retstep=True)\n",
    "b\n"
   ]
  },
  {
   "cell_type": "code",
   "execution_count": 130,
   "metadata": {},
   "outputs": [
    {
     "data": {
      "text/plain": [
       "array([100.63347097, 100.0144071 , 100.79822899, 100.75933629,\n",
       "       100.35548906, 100.41641091, 100.03840635, 100.09967811,\n",
       "       100.04726331, 100.09220997])"
      ]
     },
     "execution_count": 130,
     "metadata": {},
     "output_type": "execute_result"
    }
   ],
   "source": [
    "np.random.rand(10)+100\n"
   ]
  },
  {
   "cell_type": "code",
   "execution_count": 126,
   "metadata": {},
   "outputs": [
    {
     "data": {
      "text/plain": [
       "array([100.11419744, 100.26830675, 100.68524084, 100.90918915,\n",
       "       100.94456662, 100.18051364, 100.71000311, 100.44719984,\n",
       "       100.16899277, 100.6192495 ])"
      ]
     },
     "execution_count": 126,
     "metadata": {},
     "output_type": "execute_result"
    }
   ],
   "source": [
    "np.random.rand(10)+100\n"
   ]
  },
  {
   "cell_type": "code",
   "execution_count": 132,
   "metadata": {
    "id": "jccrMIp-uY1X",
    "outputId": "dc440b76-f316-4444-a136-e1f82c32a85f"
   },
   "outputs": [
    {
     "data": {
      "text/plain": [
       "array([22, 24, 43,  5, 44, 42, 37, 35, 40, 24])"
      ]
     },
     "execution_count": 132,
     "metadata": {},
     "output_type": "execute_result"
    }
   ],
   "source": [
    "np.random.randint(1,50,10)"
   ]
  },
  {
   "cell_type": "code",
   "execution_count": 136,
   "metadata": {},
   "outputs": [
    {
     "data": {
      "text/plain": [
       "array([ 1, 87, 29, 28,  3, 93, 51, 30, 29, 26])"
      ]
     },
     "execution_count": 136,
     "metadata": {},
     "output_type": "execute_result"
    }
   ],
   "source": [
    "np.random.randint(100,size=10)\n"
   ]
  },
  {
   "cell_type": "code",
   "execution_count": 138,
   "metadata": {
    "scrolled": true
   },
   "outputs": [
    {
     "data": {
      "text/plain": [
       "array([ 1.    ,  4.0625,  7.125 , 10.1875, 13.25  , 16.3125, 19.375 ,\n",
       "       22.4375, 25.5   , 28.5625, 31.625 , 34.6875, 37.75  , 40.8125,\n",
       "       43.875 , 46.9375, 50.    ])"
      ]
     },
     "execution_count": 138,
     "metadata": {},
     "output_type": "execute_result"
    }
   ],
   "source": [
    "np.linspace(1,50,17)"
   ]
  },
  {
   "cell_type": "code",
   "execution_count": 144,
   "metadata": {},
   "outputs": [
    {
     "data": {
      "text/plain": [
       "2"
      ]
     },
     "execution_count": 144,
     "metadata": {},
     "output_type": "execute_result"
    }
   ],
   "source": [
    "np.random.randint(1,5)"
   ]
  },
  {
   "cell_type": "markdown",
   "metadata": {},
   "source": [
    "## Numpy Array Indexing"
   ]
  },
  {
   "cell_type": "code",
   "execution_count": 145,
   "metadata": {},
   "outputs": [],
   "source": [
    "## Indexing in 1 Dimension\n",
    "arr=np.array([1,2,3,4,5,6,7])"
   ]
  },
  {
   "cell_type": "code",
   "execution_count": 148,
   "metadata": {},
   "outputs": [
    {
     "name": "stdout",
     "output_type": "stream",
     "text": [
      "6\n"
     ]
    }
   ],
   "source": [
    "print(arr[5])"
   ]
  },
  {
   "cell_type": "code",
   "execution_count": 149,
   "metadata": {},
   "outputs": [],
   "source": [
    "## Indexing in 2 dimension\n",
    "arr=np.array([[1,2,3,4,5],[6,7,8,9,10]])"
   ]
  },
  {
   "cell_type": "code",
   "execution_count": 67,
   "metadata": {},
   "outputs": [
    {
     "data": {
      "text/plain": [
       "array([[ 1,  2,  3,  4,  5],\n",
       "       [ 6,  7,  8,  9, 10]])"
      ]
     },
     "execution_count": 67,
     "metadata": {},
     "output_type": "execute_result"
    }
   ],
   "source": [
    "arr"
   ]
  },
  {
   "cell_type": "code",
   "execution_count": 150,
   "metadata": {},
   "outputs": [
    {
     "name": "stdout",
     "output_type": "stream",
     "text": [
      "7\n"
     ]
    }
   ],
   "source": [
    "print(arr[1,1]) ## first number represents the 1st dimension but it will come with indexs\n",
    "## i.e 0  means dimension 1 and 1 means dimenison 2.\n"
   ]
  },
  {
   "cell_type": "code",
   "execution_count": 151,
   "metadata": {},
   "outputs": [],
   "source": [
    "## Indexing in 3 dimensions\n",
    "arr=np.array([[[1,2,3],[4,5,5],[7,8,9],[10,11,12]]])"
   ]
  },
  {
   "cell_type": "code",
   "execution_count": 152,
   "metadata": {},
   "outputs": [
    {
     "data": {
      "text/plain": [
       "array([[[ 1,  2,  3],\n",
       "        [ 4,  5,  5],\n",
       "        [ 7,  8,  9],\n",
       "        [10, 11, 12]]])"
      ]
     },
     "execution_count": 152,
     "metadata": {},
     "output_type": "execute_result"
    }
   ],
   "source": [
    "arr"
   ]
  },
  {
   "cell_type": "code",
   "execution_count": 153,
   "metadata": {
    "scrolled": true
   },
   "outputs": [
    {
     "name": "stdout",
     "output_type": "stream",
     "text": [
      "12\n"
     ]
    }
   ],
   "source": [
    "print(arr[0,3,2])"
   ]
  },
  {
   "cell_type": "markdown",
   "metadata": {},
   "source": [
    "## Numpy Slicing"
   ]
  },
  {
   "cell_type": "code",
   "execution_count": 155,
   "metadata": {},
   "outputs": [],
   "source": [
    "arr=np.array([1,2,3,4,5,6,7])"
   ]
  },
  {
   "cell_type": "code",
   "execution_count": 157,
   "metadata": {
    "scrolled": false
   },
   "outputs": [
    {
     "name": "stdout",
     "output_type": "stream",
     "text": [
      "[2 3 4 5 6]\n"
     ]
    }
   ],
   "source": [
    "print(arr[1:-1])"
   ]
  },
  {
   "cell_type": "code",
   "execution_count": 158,
   "metadata": {},
   "outputs": [
    {
     "data": {
      "text/plain": [
       "array([1, 3, 5])"
      ]
     },
     "execution_count": 158,
     "metadata": {},
     "output_type": "execute_result"
    }
   ],
   "source": [
    "arr[0:6:2]"
   ]
  },
  {
   "cell_type": "code",
   "execution_count": 159,
   "metadata": {},
   "outputs": [],
   "source": [
    "arr=np.array([[1,2,3,4,5],[6,7,8,9,10]])"
   ]
  },
  {
   "cell_type": "code",
   "execution_count": 160,
   "metadata": {},
   "outputs": [
    {
     "data": {
      "text/plain": [
       "array([[ 1,  2,  3,  4,  5],\n",
       "       [ 6,  7,  8,  9, 10]])"
      ]
     },
     "execution_count": 160,
     "metadata": {},
     "output_type": "execute_result"
    }
   ],
   "source": [
    "arr"
   ]
  },
  {
   "cell_type": "code",
   "execution_count": 83,
   "metadata": {
    "scrolled": true
   },
   "outputs": [
    {
     "name": "stdout",
     "output_type": "stream",
     "text": [
      "[7 8 9]\n"
     ]
    }
   ],
   "source": [
    "print(arr[1,1:4]) ## mention the dimension and then slicing"
   ]
  },
  {
   "cell_type": "code",
   "execution_count": 161,
   "metadata": {},
   "outputs": [
    {
     "name": "stdout",
     "output_type": "stream",
     "text": [
      "[2 3 4]\n"
     ]
    }
   ],
   "source": [
    "print(arr[0,1:4])"
   ]
  },
  {
   "cell_type": "markdown",
   "metadata": {
    "id": "jfqrFJFWuY1Y"
   },
   "source": [
    "# Stacking\n",
    "* hstack\n",
    "* vstack"
   ]
  },
  {
   "cell_type": "code",
   "execution_count": 3,
   "metadata": {
    "id": "2XdYAeDmuY1Y",
    "outputId": "2347215a-928e-47d5-ca40-fb89b2aabb4c"
   },
   "outputs": [
    {
     "data": {
      "text/plain": [
       "array([[10, 11, 12, 13],\n",
       "       [14, 15, 16, 17],\n",
       "       [18, 19, 20, 21],\n",
       "       [22, 23, 24, 25],\n",
       "       [26, 27, 28, 29],\n",
       "       [30, 31, 32, 33],\n",
       "       [34, 35, 36, 37],\n",
       "       [38, 39, 40, 41],\n",
       "       [42, 43, 44, 45],\n",
       "       [46, 47, 48, 49]])"
      ]
     },
     "execution_count": 3,
     "metadata": {},
     "output_type": "execute_result"
    }
   ],
   "source": [
    "a1= np.arange(10,50).reshape(10,4)\n",
    "a1"
   ]
  },
  {
   "cell_type": "code",
   "execution_count": 4,
   "metadata": {
    "id": "CA58M-qMuY1Z",
    "outputId": "cd6c12ae-6c85-4d9f-914d-5c90de3378a0"
   },
   "outputs": [
    {
     "data": {
      "text/plain": [
       "array([[10.        , 11.02564103, 12.05128205, 13.07692308],\n",
       "       [14.1025641 , 15.12820513, 16.15384615, 17.17948718],\n",
       "       [18.20512821, 19.23076923, 20.25641026, 21.28205128],\n",
       "       [22.30769231, 23.33333333, 24.35897436, 25.38461538],\n",
       "       [26.41025641, 27.43589744, 28.46153846, 29.48717949],\n",
       "       [30.51282051, 31.53846154, 32.56410256, 33.58974359],\n",
       "       [34.61538462, 35.64102564, 36.66666667, 37.69230769],\n",
       "       [38.71794872, 39.74358974, 40.76923077, 41.79487179],\n",
       "       [42.82051282, 43.84615385, 44.87179487, 45.8974359 ],\n",
       "       [46.92307692, 47.94871795, 48.97435897, 50.        ]])"
      ]
     },
     "execution_count": 4,
     "metadata": {},
     "output_type": "execute_result"
    }
   ],
   "source": [
    "a2=np.linspace(10,50,40).reshape(10,4)\n",
    "a2"
   ]
  },
  {
   "cell_type": "code",
   "execution_count": 5,
   "metadata": {
    "id": "iJrXe_2yuY1a",
    "outputId": "1ad4c434-d492-49ff-92a1-21c687e2b328"
   },
   "outputs": [
    {
     "data": {
      "text/plain": [
       "numpy.ndarray"
      ]
     },
     "execution_count": 5,
     "metadata": {},
     "output_type": "execute_result"
    }
   ],
   "source": [
    "type(a2)"
   ]
  },
  {
   "cell_type": "code",
   "execution_count": 6,
   "metadata": {
    "id": "ktnInVX3uY1b",
    "outputId": "87a3b452-27c6-4e7f-a11d-a231a5defa74"
   },
   "outputs": [
    {
     "data": {
      "text/plain": [
       "dtype('float64')"
      ]
     },
     "execution_count": 6,
     "metadata": {},
     "output_type": "execute_result"
    }
   ],
   "source": [
    "a2.dtype"
   ]
  },
  {
   "cell_type": "code",
   "execution_count": 7,
   "metadata": {
    "id": "p6L0rLdIuY1c",
    "outputId": "5656e299-2b61-422f-d94f-97700571a545"
   },
   "outputs": [
    {
     "data": {
      "text/plain": [
       "array([[10, 11, 12, 13],\n",
       "       [14, 15, 16, 17],\n",
       "       [18, 19, 20, 21],\n",
       "       [22, 23, 24, 25],\n",
       "       [26, 27, 28, 29],\n",
       "       [30, 31, 32, 33],\n",
       "       [34, 35, 36, 37],\n",
       "       [38, 39, 40, 41],\n",
       "       [42, 43, 44, 45],\n",
       "       [46, 47, 48, 49]])"
      ]
     },
     "execution_count": 7,
     "metadata": {},
     "output_type": "execute_result"
    }
   ],
   "source": [
    "a1"
   ]
  },
  {
   "cell_type": "code",
   "execution_count": 8,
   "metadata": {
    "id": "2WY8VCk0uY1c",
    "outputId": "03547a24-e843-45fd-9a15-50867bfb672c"
   },
   "outputs": [
    {
     "data": {
      "text/plain": [
       "array([[10.        , 11.02564103, 12.05128205, 13.07692308],\n",
       "       [14.1025641 , 15.12820513, 16.15384615, 17.17948718],\n",
       "       [18.20512821, 19.23076923, 20.25641026, 21.28205128],\n",
       "       [22.30769231, 23.33333333, 24.35897436, 25.38461538],\n",
       "       [26.41025641, 27.43589744, 28.46153846, 29.48717949],\n",
       "       [30.51282051, 31.53846154, 32.56410256, 33.58974359],\n",
       "       [34.61538462, 35.64102564, 36.66666667, 37.69230769],\n",
       "       [38.71794872, 39.74358974, 40.76923077, 41.79487179],\n",
       "       [42.82051282, 43.84615385, 44.87179487, 45.8974359 ],\n",
       "       [46.92307692, 47.94871795, 48.97435897, 50.        ]])"
      ]
     },
     "execution_count": 8,
     "metadata": {},
     "output_type": "execute_result"
    }
   ],
   "source": [
    "a2"
   ]
  },
  {
   "cell_type": "code",
   "execution_count": 9,
   "metadata": {
    "id": "0Y3pZTSLuY1d",
    "outputId": "bfba2777-74de-47b1-84ca-b1b098a393fc"
   },
   "outputs": [
    {
     "data": {
      "text/plain": [
       "array([[10.        , 11.        , 12.        , 13.        , 10.        ,\n",
       "        11.02564103, 12.05128205, 13.07692308],\n",
       "       [14.        , 15.        , 16.        , 17.        , 14.1025641 ,\n",
       "        15.12820513, 16.15384615, 17.17948718],\n",
       "       [18.        , 19.        , 20.        , 21.        , 18.20512821,\n",
       "        19.23076923, 20.25641026, 21.28205128],\n",
       "       [22.        , 23.        , 24.        , 25.        , 22.30769231,\n",
       "        23.33333333, 24.35897436, 25.38461538],\n",
       "       [26.        , 27.        , 28.        , 29.        , 26.41025641,\n",
       "        27.43589744, 28.46153846, 29.48717949],\n",
       "       [30.        , 31.        , 32.        , 33.        , 30.51282051,\n",
       "        31.53846154, 32.56410256, 33.58974359],\n",
       "       [34.        , 35.        , 36.        , 37.        , 34.61538462,\n",
       "        35.64102564, 36.66666667, 37.69230769],\n",
       "       [38.        , 39.        , 40.        , 41.        , 38.71794872,\n",
       "        39.74358974, 40.76923077, 41.79487179],\n",
       "       [42.        , 43.        , 44.        , 45.        , 42.82051282,\n",
       "        43.84615385, 44.87179487, 45.8974359 ],\n",
       "       [46.        , 47.        , 48.        , 49.        , 46.92307692,\n",
       "        47.94871795, 48.97435897, 50.        ]])"
      ]
     },
     "execution_count": 9,
     "metadata": {},
     "output_type": "execute_result"
    }
   ],
   "source": [
    "np.hstack((a1,a2))    #1st hori col of 1st array and 2nd array get merged into one single []\n",
    "#stack() needs a list or tuple to be passed in. needs [] or () hence, 2 ()"
   ]
  },
  {
   "cell_type": "code",
   "execution_count": 10,
   "metadata": {
    "id": "XobsRx2huY1e",
    "outputId": "7e409439-6e54-4969-d4ed-1bb888617db5"
   },
   "outputs": [
    {
     "data": {
      "text/plain": [
       "array([[10.        , 11.        , 12.        , 13.        ],\n",
       "       [14.        , 15.        , 16.        , 17.        ],\n",
       "       [18.        , 19.        , 20.        , 21.        ],\n",
       "       [22.        , 23.        , 24.        , 25.        ],\n",
       "       [26.        , 27.        , 28.        , 29.        ],\n",
       "       [30.        , 31.        , 32.        , 33.        ],\n",
       "       [34.        , 35.        , 36.        , 37.        ],\n",
       "       [38.        , 39.        , 40.        , 41.        ],\n",
       "       [42.        , 43.        , 44.        , 45.        ],\n",
       "       [46.        , 47.        , 48.        , 49.        ],\n",
       "       [10.        , 11.02564103, 12.05128205, 13.07692308],\n",
       "       [14.1025641 , 15.12820513, 16.15384615, 17.17948718],\n",
       "       [18.20512821, 19.23076923, 20.25641026, 21.28205128],\n",
       "       [22.30769231, 23.33333333, 24.35897436, 25.38461538],\n",
       "       [26.41025641, 27.43589744, 28.46153846, 29.48717949],\n",
       "       [30.51282051, 31.53846154, 32.56410256, 33.58974359],\n",
       "       [34.61538462, 35.64102564, 36.66666667, 37.69230769],\n",
       "       [38.71794872, 39.74358974, 40.76923077, 41.79487179],\n",
       "       [42.82051282, 43.84615385, 44.87179487, 45.8974359 ],\n",
       "       [46.92307692, 47.94871795, 48.97435897, 50.        ]])"
      ]
     },
     "execution_count": 10,
     "metadata": {},
     "output_type": "execute_result"
    }
   ],
   "source": [
    "np.vstack((a1,a2)) #stacks a2 after stacking a1 "
   ]
  },
  {
   "cell_type": "code",
   "execution_count": 12,
   "metadata": {
    "id": "YjGUJSu6uY1e",
    "outputId": "21851b33-bc13-4e5d-f009-9b42294717bb"
   },
   "outputs": [
    {
     "name": "stdout",
     "output_type": "stream",
     "text": [
      "[[ 0  1  2]\n",
      " [ 3  4  5]\n",
      " [ 6  7  8]\n",
      " [ 9 10 11]\n",
      " [12 13 14]]\n",
      "[[20 21 22]\n",
      " [23 24 25]\n",
      " [26 27 28]\n",
      " [29 30 31]\n",
      " [32 33 34]]\n"
     ]
    }
   ],
   "source": [
    "#Create 2 arrays, 1st array->15(0-14) 2nd array->15(20-34)\n",
    "# Use hstack and vstack\n",
    "ab1=np.arange(15).reshape(5,3)\n",
    "ab2=np.arange(20,35).reshape(5,3)\n",
    "print(ab1)\n",
    "print(ab2)"
   ]
  },
  {
   "cell_type": "code",
   "execution_count": 13,
   "metadata": {
    "id": "ilTSN29wuY1f",
    "outputId": "0787b66f-66ac-42b9-d65b-b628a8ea38bc"
   },
   "outputs": [
    {
     "data": {
      "text/plain": [
       "array([[ 0,  1,  2, 20, 21, 22],\n",
       "       [ 3,  4,  5, 23, 24, 25],\n",
       "       [ 6,  7,  8, 26, 27, 28],\n",
       "       [ 9, 10, 11, 29, 30, 31],\n",
       "       [12, 13, 14, 32, 33, 34]])"
      ]
     },
     "execution_count": 13,
     "metadata": {},
     "output_type": "execute_result"
    }
   ],
   "source": [
    "np.hstack((ab1,ab2))"
   ]
  },
  {
   "cell_type": "code",
   "execution_count": null,
   "metadata": {
    "id": "RCVlFobcuY1g",
    "outputId": "e595c712-7150-409b-fcb8-e1e516f0606e"
   },
   "outputs": [],
   "source": [
    "np.vstack((ab1,ab2))"
   ]
  },
  {
   "cell_type": "code",
   "execution_count": null,
   "metadata": {
    "id": "Uhs64IgSuY1g",
    "outputId": "646841fc-655f-4a13-d6c1-83a5dc66af52"
   },
   "outputs": [],
   "source": [
    "np.hstack((ab1,ab2,ab1))"
   ]
  },
  {
   "cell_type": "code",
   "execution_count": null,
   "metadata": {
    "id": "OYrS7fOCuY1h",
    "outputId": "eaef5237-a99d-4e62-8d4a-1df05d8a0277"
   },
   "outputs": [],
   "source": [
    "a = np.arange(15).reshape(3,5)\n",
    "a"
   ]
  },
  {
   "cell_type": "code",
   "execution_count": null,
   "metadata": {
    "id": "6cM1VRZKuY1h",
    "outputId": "e5cfb043-be2e-46f0-e591-5fd3764bea72"
   },
   "outputs": [],
   "source": [
    "#Split->hsplit,vsplit\n",
    "ab1"
   ]
  },
  {
   "cell_type": "code",
   "execution_count": null,
   "metadata": {
    "id": "zfr0I0PluY1i",
    "outputId": "49e0c41c-02e5-4cd9-ddb6-9466ef865058"
   },
   "outputs": [],
   "source": [
    "ab2"
   ]
  },
  {
   "cell_type": "code",
   "execution_count": 14,
   "metadata": {
    "id": "eDAeR1gJuY1j",
    "outputId": "2013636b-ee12-47fe-c2ed-464c125a4715"
   },
   "outputs": [
    {
     "data": {
      "text/plain": [
       "[array([[ 0],\n",
       "        [ 3],\n",
       "        [ 6],\n",
       "        [ 9],\n",
       "        [12]]),\n",
       " array([[ 1],\n",
       "        [ 4],\n",
       "        [ 7],\n",
       "        [10],\n",
       "        [13]]),\n",
       " array([[ 2],\n",
       "        [ 5],\n",
       "        [ 8],\n",
       "        [11],\n",
       "        [14]])]"
      ]
     },
     "execution_count": 14,
     "metadata": {},
     "output_type": "execute_result"
    }
   ],
   "source": [
    "np.hsplit(ab1,3)    #cut the array horrizontally into no. of col (3) - gives 3 arrays"
   ]
  },
  {
   "cell_type": "code",
   "execution_count": 15,
   "metadata": {
    "id": "d_Hj6NXouY1j",
    "outputId": "cd8330d7-c75a-4374-f736-6a033ef131fb"
   },
   "outputs": [
    {
     "data": {
      "text/plain": [
       "[array([[0, 1, 2]]),\n",
       " array([[3, 4, 5]]),\n",
       " array([[6, 7, 8]]),\n",
       " array([[ 9, 10, 11]]),\n",
       " array([[12, 13, 14]])]"
      ]
     },
     "execution_count": 15,
     "metadata": {},
     "output_type": "execute_result"
    }
   ],
   "source": [
    "np.vsplit(ab1,5)     #cut the array vertically into no. of rows (5) - gives 5 arrays"
   ]
  },
  {
   "cell_type": "code",
   "execution_count": null,
   "metadata": {
    "id": "rb14Mo2zuY1k",
    "outputId": "a9761ea4-4fc4-4ff4-9859-0e6623979ef1"
   },
   "outputs": [],
   "source": [
    "a3=np.arange(24).reshape(6,4)\n",
    "a3"
   ]
  },
  {
   "cell_type": "code",
   "execution_count": null,
   "metadata": {
    "id": "d_GW5bnmuY1k",
    "outputId": "03f02fec-d2c7-4491-b267-08f57d1c4290"
   },
   "outputs": [],
   "source": [
    "np.hsplit(a3,2)"
   ]
  },
  {
   "cell_type": "code",
   "execution_count": null,
   "metadata": {
    "id": "3RHcJ35xuY1l",
    "outputId": "7481986c-4043-40bb-a207-798a9c3593ed"
   },
   "outputs": [],
   "source": [
    "np.hsplit(a3,4)"
   ]
  },
  {
   "cell_type": "code",
   "execution_count": null,
   "metadata": {
    "id": "ZvK2xchxuY1l",
    "outputId": "8467cf4c-7a0e-4766-9034-7e1c162d8ce1"
   },
   "outputs": [],
   "source": [
    "a3"
   ]
  },
  {
   "cell_type": "code",
   "execution_count": null,
   "metadata": {
    "id": "X1ltydTbuY1m",
    "outputId": "ebc41bd7-2856-4412-96eb-c56639c91211"
   },
   "outputs": [],
   "source": [
    "np.vsplit(a3,3)"
   ]
  },
  {
   "cell_type": "code",
   "execution_count": null,
   "metadata": {
    "id": "_MgAOeCruY1m",
    "outputId": "446bd2ec-bcf6-44f6-f651-3478e1ead6b7"
   },
   "outputs": [],
   "source": [
    "np.vsplit(a3,2)"
   ]
  },
  {
   "cell_type": "code",
   "execution_count": null,
   "metadata": {
    "id": "HfBC0DLvuY1n",
    "outputId": "cd189d8e-196d-4e4d-9501-8e6fa78e278a"
   },
   "outputs": [],
   "source": [
    "np.vsplit(a3,6)"
   ]
  },
  {
   "cell_type": "code",
   "execution_count": null,
   "metadata": {
    "id": "sVrzaYouuY1n",
    "outputId": "7bfee048-2ec4-4924-f955-3d4dba3156e1"
   },
   "outputs": [],
   "source": [
    "a10 = np.arange(24).reshape(2,3,4)\n",
    "a11= np.hsplit(a10,3)\n",
    "print(a10)\n",
    "print(a11)\n"
   ]
  },
  {
   "cell_type": "code",
   "execution_count": 162,
   "metadata": {
    "id": "UaTO6GiyuY1o",
    "outputId": "fa948dcf-8f8c-42c9-b587-9b03c659fc01",
    "scrolled": true
   },
   "outputs": [
    {
     "data": {
      "text/plain": [
       "array([[ 0,  1,  2,  3],\n",
       "       [ 4,  5,  6,  7],\n",
       "       [ 8,  9, 10, 11],\n",
       "       [12, 13, 14, 15],\n",
       "       [16, 17, 18, 19],\n",
       "       [20, 21, 22, 23]])"
      ]
     },
     "execution_count": 162,
     "metadata": {},
     "output_type": "execute_result"
    }
   ],
   "source": [
    "# Broadcasting \n",
    "a3=np.arange(24).reshape(6,4)\n",
    "a3"
   ]
  },
  {
   "cell_type": "code",
   "execution_count": 163,
   "metadata": {},
   "outputs": [
    {
     "data": {
      "text/plain": [
       "array([[  0,  10,  20,  30],\n",
       "       [ 40,  50,  60,  70],\n",
       "       [ 80,  90, 100, 110],\n",
       "       [120, 130, 140, 150],\n",
       "       [160, 170, 180, 190],\n",
       "       [200, 210, 220, 230]])"
      ]
     },
     "execution_count": 163,
     "metadata": {},
     "output_type": "execute_result"
    }
   ],
   "source": [
    "a3*10"
   ]
  },
  {
   "cell_type": "code",
   "execution_count": 165,
   "metadata": {
    "id": "MuCXrWIiuY1o"
   },
   "outputs": [],
   "source": [
    "## changing the values of array element\n",
    "a3[0:2,]=10"
   ]
  },
  {
   "cell_type": "code",
   "execution_count": 166,
   "metadata": {
    "id": "75nLk11juY1p",
    "outputId": "b46b2e2e-cb99-4924-c429-680dd54acef5"
   },
   "outputs": [
    {
     "data": {
      "text/plain": [
       "array([[10, 10, 10, 10],\n",
       "       [10, 10, 10, 10],\n",
       "       [ 8,  9, 10, 11],\n",
       "       [12, 13, 14, 15],\n",
       "       [16, 17, 18, 19],\n",
       "       [20, 21, 22, 23]])"
      ]
     },
     "execution_count": 166,
     "metadata": {},
     "output_type": "execute_result"
    }
   ],
   "source": [
    "a3"
   ]
  },
  {
   "cell_type": "code",
   "execution_count": 167,
   "metadata": {
    "id": "cX-S75iEuY1p",
    "outputId": "f5a4bfd8-2315-4da9-97b0-4df20520ef84"
   },
   "outputs": [
    {
     "data": {
      "text/plain": [
       "array([[10, 10, 10, 10],\n",
       "       [10, 10, 10, 10],\n",
       "       [ 8,  9, 10, 11],\n",
       "       [12, 13, 14, 15],\n",
       "       [16, 17, 18, 19],\n",
       "       [20, 21, 22, 23]])"
      ]
     },
     "execution_count": 167,
     "metadata": {},
     "output_type": "execute_result"
    }
   ],
   "source": [
    "a3[4:,1:3]\n",
    "a3"
   ]
  },
  {
   "cell_type": "code",
   "execution_count": null,
   "metadata": {
    "id": "ajDgzaz2uY1q",
    "outputId": "2d0d57f0-f9b1-4e6e-c5ef-7595b4e43ee0"
   },
   "outputs": [],
   "source": [
    "ab1"
   ]
  },
  {
   "cell_type": "code",
   "execution_count": null,
   "metadata": {
    "id": "sHo8KSchuY1q",
    "outputId": "e4ecf590-8953-4e6b-dfee-9a85e383f2f2",
    "scrolled": true
   },
   "outputs": [],
   "source": [
    "# 2nd & 3rd column replace with 100\n",
    "ab1[:,1:3] = 100\n",
    "ab1"
   ]
  },
  {
   "cell_type": "code",
   "execution_count": null,
   "metadata": {
    "id": "chdPG8XCuY1u",
    "outputId": "fe3457b5-c496-4eb4-b8cc-01d52ea5cee6"
   },
   "outputs": [],
   "source": [
    "ab1[4:,2:] = 50\n",
    "ab1"
   ]
  },
  {
   "cell_type": "code",
   "execution_count": 16,
   "metadata": {
    "id": "QDGB4igEuY1u",
    "outputId": "7397390d-3804-4ae0-be73-01a1ac60fad8"
   },
   "outputs": [
    {
     "data": {
      "text/plain": [
       "array([[ 0,  1,  2],\n",
       "       [ 3,  4,  5],\n",
       "       [ 6,  7,  8],\n",
       "       [ 9, 10, 11],\n",
       "       [12, 13, 14]])"
      ]
     },
     "execution_count": 16,
     "metadata": {},
     "output_type": "execute_result"
    }
   ],
   "source": [
    "# Boolean Masking\n",
    "ab1 = np.arange(15).reshape(5,3)\n",
    "ab1"
   ]
  },
  {
   "cell_type": "code",
   "execution_count": 17,
   "metadata": {
    "id": "c8ovyCF3uY1v"
   },
   "outputs": [],
   "source": [
    "#Name = o/p wanted == condition  SYNTAX\n",
    "re = 0 == ab1%2 # re= ab1%2==0 takes element where remainder=0    \n",
    "#re is user-defined name   "
   ]
  },
  {
   "cell_type": "code",
   "execution_count": null,
   "metadata": {
    "id": "y1XbgWt9uY1v",
    "outputId": "fbfeb5b0-c69d-477d-e814-b3d188314b77"
   },
   "outputs": [],
   "source": [
    "ab1[re]"
   ]
  },
  {
   "cell_type": "code",
   "execution_count": null,
   "metadata": {
    "id": "uDP_8cgRuY1w",
    "outputId": "483ffa24-a445-499f-f2fb-a6b924bb713e"
   },
   "outputs": [],
   "source": [
    "re"
   ]
  },
  {
   "cell_type": "code",
   "execution_count": null,
   "metadata": {
    "id": "mMdvZRhYuY1w",
    "outputId": "4b881689-7531-4c74-ff25-e3ccc49f5c36"
   },
   "outputs": [],
   "source": [
    "re1 = 0 == ab1%3\n",
    "re1"
   ]
  },
  {
   "cell_type": "code",
   "execution_count": null,
   "metadata": {},
   "outputs": [],
   "source": [
    "## Copy operation ## used as backup\n",
    " array,pandas,csv files ,excels ,database,when we doing data preprocessing-->???\n"
   ]
  },
  {
   "cell_type": "code",
   "execution_count": 169,
   "metadata": {
    "id": "V7MhQqrZuY1x",
    "outputId": "72718e6b-4d78-4d38-987a-0436251a5a53"
   },
   "outputs": [
    {
     "data": {
      "text/plain": [
       "array([0., 0.])"
      ]
     },
     "execution_count": 169,
     "metadata": {},
     "output_type": "execute_result"
    }
   ],
   "source": [
    "#zeros,ones,eye,max,min,copy\n",
    "np.zeros(2) ## 1 d array with 2 elements and each element is 0"
   ]
  },
  {
   "cell_type": "code",
   "execution_count": 171,
   "metadata": {
    "id": "9Wb4oBr9uY1x",
    "outputId": "7fbbfd22-a394-4497-faaf-0f9acbc6d986"
   },
   "outputs": [
    {
     "data": {
      "text/plain": [
       "array([[0., 0.],\n",
       "       [0., 0.],\n",
       "       [0., 0.]])"
      ]
     },
     "execution_count": 171,
     "metadata": {},
     "output_type": "execute_result"
    }
   ],
   "source": [
    "np.zeros((3,2))"
   ]
  },
  {
   "cell_type": "code",
   "execution_count": 173,
   "metadata": {
    "id": "wPEvSaYGuY1y",
    "outputId": "c5c651c6-0be5-43ec-c154-ed51c64bb9c3"
   },
   "outputs": [
    {
     "data": {
      "text/plain": [
       "array([[1, 1, 1],\n",
       "       [1, 1, 1]])"
      ]
     },
     "execution_count": 173,
     "metadata": {},
     "output_type": "execute_result"
    }
   ],
   "source": [
    "np.ones((2,3),dtype=int)"
   ]
  },
  {
   "cell_type": "code",
   "execution_count": 174,
   "metadata": {
    "id": "ow-NqnjcuY1y",
    "outputId": "f48598b1-fb55-4acf-f033-c198e9e3c016"
   },
   "outputs": [
    {
     "data": {
      "text/plain": [
       "array([[1., 0., 0.],\n",
       "       [0., 1., 0.],\n",
       "       [0., 0., 1.]])"
      ]
     },
     "execution_count": 174,
     "metadata": {},
     "output_type": "execute_result"
    }
   ],
   "source": [
    "np.eye(3)"
   ]
  },
  {
   "cell_type": "code",
   "execution_count": 175,
   "metadata": {
    "id": "_2hWxBm3uY1z",
    "outputId": "f89d8618-13ca-4e34-cd98-897826090122"
   },
   "outputs": [
    {
     "data": {
      "text/plain": [
       "array([[1., 0., 0., 0., 0.],\n",
       "       [0., 1., 0., 0., 0.],\n",
       "       [0., 0., 1., 0., 0.],\n",
       "       [0., 0., 0., 1., 0.],\n",
       "       [0., 0., 0., 0., 1.]])"
      ]
     },
     "execution_count": 175,
     "metadata": {},
     "output_type": "execute_result"
    }
   ],
   "source": [
    "np.eye(5)"
   ]
  },
  {
   "cell_type": "code",
   "execution_count": 176,
   "metadata": {
    "id": "Ope5QKE4uY1z",
    "outputId": "0fc4fa5a-cb14-4027-a5ac-f478d442b69b"
   },
   "outputs": [],
   "source": [
    "ab1=np.arange(15).reshape(5,3)"
   ]
  },
  {
   "cell_type": "code",
   "execution_count": 177,
   "metadata": {},
   "outputs": [
    {
     "data": {
      "text/plain": [
       "array([[ 0,  1,  2],\n",
       "       [ 3,  4,  5],\n",
       "       [ 6,  7,  8],\n",
       "       [ 9, 10, 11],\n",
       "       [12, 13, 14]])"
      ]
     },
     "execution_count": 177,
     "metadata": {},
     "output_type": "execute_result"
    }
   ],
   "source": [
    "ab1"
   ]
  },
  {
   "cell_type": "code",
   "execution_count": 178,
   "metadata": {
    "id": "5zcOqGaLuY10",
    "outputId": "dfb2e687-8411-4652-c408-d54ff8d68681"
   },
   "outputs": [
    {
     "data": {
      "text/plain": [
       "14"
      ]
     },
     "execution_count": 178,
     "metadata": {},
     "output_type": "execute_result"
    }
   ],
   "source": [
    "np.max(ab1)"
   ]
  },
  {
   "cell_type": "code",
   "execution_count": 179,
   "metadata": {
    "id": "8BdEDQrruY10",
    "outputId": "7baceafd-51bb-4782-9c07-5a6591d7fe27"
   },
   "outputs": [
    {
     "data": {
      "text/plain": [
       "0"
      ]
     },
     "execution_count": 179,
     "metadata": {},
     "output_type": "execute_result"
    }
   ],
   "source": [
    "np.min(ab1)"
   ]
  },
  {
   "cell_type": "code",
   "execution_count": 180,
   "metadata": {},
   "outputs": [
    {
     "data": {
      "text/plain": [
       "105"
      ]
     },
     "execution_count": 180,
     "metadata": {},
     "output_type": "execute_result"
    }
   ],
   "source": [
    "np.sum(ab1)"
   ]
  },
  {
   "cell_type": "code",
   "execution_count": null,
   "metadata": {
    "id": "ejfqNTAIuY11",
    "outputId": "d86510d2-ab5a-4ef2-afa6-233ae2ad1446"
   },
   "outputs": [],
   "source": [
    "ab3=ab1.copy()\n",
    "ab3"
   ]
  },
  {
   "cell_type": "code",
   "execution_count": 182,
   "metadata": {
    "id": "Asyxk05BuY11",
    "outputId": "97516d23-4ac7-49c2-e715-8dff78818728"
   },
   "outputs": [
    {
     "data": {
      "text/plain": [
       "array([[5., 0., 0., 0., 0.],\n",
       "       [0., 5., 0., 0., 0.],\n",
       "       [0., 0., 5., 0., 0.],\n",
       "       [0., 0., 0., 5., 0.],\n",
       "       [0., 0., 0., 0., 5.]])"
      ]
     },
     "execution_count": 182,
     "metadata": {},
     "output_type": "execute_result"
    }
   ],
   "source": [
    "np.eye(5)*5"
   ]
  },
  {
   "cell_type": "code",
   "execution_count": null,
   "metadata": {
    "id": "xR2UiEBUuY12"
   },
   "outputs": [],
   "source": [
    "ab4=ab1"
   ]
  },
  {
   "cell_type": "code",
   "execution_count": null,
   "metadata": {
    "id": "XyjpHGPsuY12",
    "outputId": "d6b4e55b-061b-4a6c-a9f8-5a24f4c545ae"
   },
   "outputs": [],
   "source": [
    "ab4"
   ]
  },
  {
   "cell_type": "code",
   "execution_count": null,
   "metadata": {
    "id": "amrBywLAuY13",
    "outputId": "9c409be1-12ad-4ad0-bf13-4fb2777c2ec5"
   },
   "outputs": [],
   "source": [
    "ab1"
   ]
  },
  {
   "cell_type": "code",
   "execution_count": null,
   "metadata": {
    "id": "I1ccDFMKuY13",
    "outputId": "cbe61cde-7286-4296-e643-744f422d7faa"
   },
   "outputs": [],
   "source": [
    "ab4"
   ]
  },
  {
   "cell_type": "code",
   "execution_count": null,
   "metadata": {
    "id": "I6DTlcnHuY14",
    "outputId": "8d7276ff-ceeb-4886-ec59-4e3281ecc338"
   },
   "outputs": [],
   "source": [
    "b=ab1+ab4\n",
    "b"
   ]
  },
  {
   "cell_type": "code",
   "execution_count": null,
   "metadata": {
    "id": "m0Cux6XyuY14",
    "outputId": "2a40884f-dff1-4acd-9f42-41603b34a546"
   },
   "outputs": [],
   "source": [
    "c=ab1-ab4\n",
    "c"
   ]
  },
  {
   "cell_type": "code",
   "execution_count": null,
   "metadata": {
    "id": "oh23YIf8uY15"
   },
   "outputs": [],
   "source": []
  }
 ],
 "metadata": {
  "colab": {
   "name": "Numpy-21-12.ipynb",
   "provenance": []
  },
  "kernelspec": {
   "display_name": "Python 3",
   "language": "python",
   "name": "python3"
  },
  "language_info": {
   "codemirror_mode": {
    "name": "ipython",
    "version": 3
   },
   "file_extension": ".py",
   "mimetype": "text/x-python",
   "name": "python",
   "nbconvert_exporter": "python",
   "pygments_lexer": "ipython3",
   "version": "3.8.5"
  }
 },
 "nbformat": 4,
 "nbformat_minor": 1
}
