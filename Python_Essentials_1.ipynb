{
 "cells": [
  {
   "cell_type": "markdown",
   "metadata": {
    "id": "02C3gSEN_08k"
   },
   "source": [
    "## Agenda\n",
    "* Anaconda Installation & Jupyter nb launch\n",
    "* Jupyter nb with its menu and toolbar\n",
    "* Intro to Python\n",
    "* Python Basics-variables,print\n",
    "* Data Types\n",
    "* Typecasting\n",
    "* input, format options\n",
    "* slicing\n",
    "* Operators\n",
    "* other functions "
   ]
  },
  {
   "cell_type": "code",
   "execution_count": null,
   "metadata": {
    "id": "6_FEP9IT_08y"
   },
   "outputs": [],
   "source": []
  },
  {
   "cell_type": "markdown",
   "metadata": {
    "id": "Hl33YyfH_080"
   },
   "source": [
    "Short cut keys\n",
    "A->Insert cell above \n",
    "B->Insert cell below \n",
    "DD -> Delete a cell\n",
    "z -> undo\n",
    "m -> markdown\n",
    "R -> raw\n",
    "y -> code\n",
    "ctrl+Enter -> Run a current cell\n",
    "shft+Enter -> Run & goes to next cell"
   ]
  },
  {
   "cell_type": "markdown",
   "metadata": {
    "id": "3Wk-dv0d_081"
   },
   "source": [
    "#### Python Basics\n",
    "* Comment-> single,multi-line\n",
    "* identifiers,variable\n",
    "* print"
   ]
  },
  {
   "cell_type": "code",
   "execution_count": null,
   "metadata": {
    "id": "_wNKRB0i_082",
    "outputId": "f1e2dd00-1efa-4bbc-82a3-c54c7c5b37c0",
    "scrolled": true
   },
   "outputs": [],
   "source": [
    "# Area of Triangle\n",
    "print(\"This is my first line of code\") # '' \"\""
   ]
  },
  {
   "cell_type": "code",
   "execution_count": null,
   "metadata": {
    "id": "Z8yLsb8p_084",
    "outputId": "be1578e5-611f-458f-8480-e459349f2695",
    "scrolled": true
   },
   "outputs": [],
   "source": [
    "'''This is a mutli  line \n",
    "comment for your reference'''\n",
    "print('My name is John')"
   ]
  },
  {
   "cell_type": "code",
   "execution_count": null,
   "metadata": {
    "id": "4c_vXlTK_085",
    "outputId": "23c72fc7-094f-4ecb-9cd3-f178cdf8245f",
    "scrolled": true
   },
   "outputs": [],
   "source": [
    "'''This\n",
    "is\n",
    "a \n",
    "multi-line \n",
    "comment'''\n",
    "print('This is for explaining multi-line comment')\n"
   ]
  },
  {
   "cell_type": "code",
   "execution_count": null,
   "metadata": {
    "id": "LhYnlqjd_086",
    "outputId": "10e9faba-11cc-4bb7-bdfd-cb0f0e0a36d1",
    "scrolled": true
   },
   "outputs": [],
   "source": [
    "\"\"\" This is \n",
    "to explain\n",
    "multi-line comment\n",
    "with double quotes\"\"\"\n",
    "print(\"Good Evening to all\")"
   ]
  },
  {
   "cell_type": "code",
   "execution_count": null,
   "metadata": {
    "id": "NpfdMvtt_086",
    "outputId": "f8c2b8a5-f061-4fef-e8f8-e88832d7cace"
   },
   "outputs": [],
   "source": [
    "# Identifiers-> names given to a variable name, func name, any naming variable\n",
    "# Rules-> alphabets/nos/_, no special char allowed\n",
    "#variables-> the value can be assigned and it can also be changed\n",
    "x = 10 # x is a variable(variable should follow the rules of identifier,var name is a identifier)\n",
    "x"
   ]
  },
  {
   "cell_type": "code",
   "execution_count": null,
   "metadata": {
    "id": "x1TsgHPC_088",
    "outputId": "7e7efa71-bed3-4fef-a592-b975991e56fc"
   },
   "outputs": [],
   "source": [
    "num1 = 20\n",
    "num1"
   ]
  },
  {
   "cell_type": "code",
   "execution_count": null,
   "metadata": {
    "id": "msjzHBPP_088",
    "outputId": "edea7ab8-5357-4906-c147-5c3d26237407"
   },
   "outputs": [],
   "source": [
    "num_2 = 30\n",
    "num_2"
   ]
  },
  {
   "cell_type": "markdown",
   "metadata": {
    "id": "rHbNHpj4_089"
   },
   "source": [
    "### DataTypes\n",
    "* bool \n",
    "* int\n",
    "* float\n",
    "* str"
   ]
  },
  {
   "cell_type": "code",
   "execution_count": null,
   "metadata": {
    "id": "h9Vx-VJS_08-",
    "outputId": "ea2bb18b-d898-41a6-bb8e-6497e169bfb7"
   },
   "outputs": [],
   "source": [
    "# bool-True/False\n",
    "x = True\n",
    "x"
   ]
  },
  {
   "cell_type": "code",
   "execution_count": null,
   "metadata": {
    "id": "RXodL96h_08-",
    "outputId": "8a6b417b-8edb-4550-823a-d16d97dbde75"
   },
   "outputs": [],
   "source": [
    "type(x) # datatype of the variable"
   ]
  },
  {
   "cell_type": "code",
   "execution_count": null,
   "metadata": {
    "id": "Wgpd9Q7__08_",
    "outputId": "f6e45fe0-e869-407a-c09c-172ba6fda74f"
   },
   "outputs": [],
   "source": [
    "y = False\n",
    "y"
   ]
  },
  {
   "cell_type": "code",
   "execution_count": null,
   "metadata": {
    "id": "lY_Su0Iq_09A",
    "outputId": "c6cfa149-f1bd-4250-af96-0fe302ce72ce"
   },
   "outputs": [],
   "source": [
    "type(y)"
   ]
  },
  {
   "cell_type": "code",
   "execution_count": null,
   "metadata": {
    "id": "Z8DT0UPE_09B",
    "outputId": "1808953f-9b12-4b65-cd27-b84c60a1bfbf"
   },
   "outputs": [],
   "source": [
    "# integer-> whole nos- +ve,-ve,0\n",
    "num = 67\n",
    "print(type(num))\n",
    "num"
   ]
  },
  {
   "cell_type": "code",
   "execution_count": null,
   "metadata": {
    "id": "COqS_34b_09C",
    "outputId": "f125e8e0-106a-4ef0-f8c4-528f375888a4"
   },
   "outputs": [],
   "source": [
    "num1 = -45\n",
    "type(num1)"
   ]
  },
  {
   "cell_type": "code",
   "execution_count": null,
   "metadata": {
    "id": "-217Vn0a_09C",
    "outputId": "35b78cd2-0dd8-4dc3-a183-5dcaff00c8e0"
   },
   "outputs": [],
   "source": [
    "# assign 0 to a variable num2 and print the datatype of num2\n",
    "num2 = 0\n",
    "type(num2)"
   ]
  },
  {
   "cell_type": "code",
   "execution_count": null,
   "metadata": {
    "id": "XI2XwUT0_09D",
    "outputId": "681d12f8-450b-42c0-9985-1db1f3ccdd5e"
   },
   "outputs": [],
   "source": [
    "# float-> decimal values\n",
    "xy = 58.987\n",
    "type(xy)"
   ]
  },
  {
   "cell_type": "code",
   "execution_count": null,
   "metadata": {
    "id": "nMboVRHW_09E",
    "outputId": "cd5c9a43-e2a2-4b2d-bdb0-e3c838d5a1f0"
   },
   "outputs": [],
   "source": [
    "# assign 98.56 to a variable num3 and print the datatype of num3\n",
    "num3 = 98.56\n",
    "type(num3)"
   ]
  },
  {
   "cell_type": "code",
   "execution_count": null,
   "metadata": {
    "id": "d5Z3DfbO_09F",
    "outputId": "d4ba3355-d9f8-4b2f-8971-1525152830ef"
   },
   "outputs": [],
   "source": [
    "# str-> collection of alphabets enclosed within quotes(''/\"\")\n",
    "name = \"Deepa\"\n",
    "name"
   ]
  },
  {
   "cell_type": "code",
   "execution_count": null,
   "metadata": {
    "id": "RHofEloJ_09G",
    "outputId": "7662bd9d-216a-46c9-b773-ddb389c8b834"
   },
   "outputs": [],
   "source": [
    "type(name)"
   ]
  },
  {
   "cell_type": "code",
   "execution_count": null,
   "metadata": {
    "id": "LyeJeSgp_09G",
    "outputId": "ed59f6eb-0739-4342-80cd-0651cb35200d"
   },
   "outputs": [],
   "source": [
    "role = 'Data Scientist2*+-'\n",
    "role"
   ]
  },
  {
   "cell_type": "code",
   "execution_count": null,
   "metadata": {
    "id": "2EzT_INL_09H",
    "outputId": "a3bcfe95-f783-4d03-8ded-49fc7d313ec7"
   },
   "outputs": [],
   "source": [
    "type(role)"
   ]
  },
  {
   "cell_type": "markdown",
   "metadata": {
    "id": "ljaYPVfK_09H"
   },
   "source": [
    "## Typecasting\n",
    "* Hierarchy->bool->int->float->str\n",
    "* Auto\n",
    "* Forced"
   ]
  },
  {
   "cell_type": "code",
   "execution_count": 2,
   "metadata": {
    "id": "neD7f_2F_09I",
    "outputId": "c72497a0-6212-4a17-cae5-a65387b6f4d9"
   },
   "outputs": [
    {
     "data": {
      "text/plain": [
       "118.12"
      ]
     },
     "execution_count": 2,
     "metadata": {},
     "output_type": "execute_result"
    }
   ],
   "source": [
    "# Auto Typecasting\n",
    "exp = 5 + False + 6.78 + True + 7 + 98.34   # 5.0 + 0.0 + 6.78 + 1.0 +7.0 + 98.34\n",
    "exp"
   ]
  },
  {
   "cell_type": "code",
   "execution_count": null,
   "metadata": {
    "id": "HxMUxiYC_09I",
    "outputId": "cee14891-a0ee-4d13-fda8-ee2387e3fa93"
   },
   "outputs": [],
   "source": [
    "exp1 = 5 + False + True + 7  # 5 + 0 + 1 + 7\n",
    "exp1"
   ]
  },
  {
   "cell_type": "code",
   "execution_count": 1,
   "metadata": {
    "id": "IK8mgShq_09J",
    "outputId": "e4d5bc4a-b421-4c5f-b5e0-f246f3ad6a8b"
   },
   "outputs": [
    {
     "ename": "NameError",
     "evalue": "name 'exp1' is not defined",
     "output_type": "error",
     "traceback": [
      "\u001b[1;31m---------------------------------------------------------------------------\u001b[0m",
      "\u001b[1;31mNameError\u001b[0m                                 Traceback (most recent call last)",
      "\u001b[1;32m<ipython-input-1-4915e3d9bc46>\u001b[0m in \u001b[0;36m<module>\u001b[1;34m\u001b[0m\n\u001b[1;32m----> 1\u001b[1;33m \u001b[0mtype\u001b[0m\u001b[1;33m(\u001b[0m\u001b[0mexp1\u001b[0m\u001b[1;33m)\u001b[0m\u001b[1;33m\u001b[0m\u001b[1;33m\u001b[0m\u001b[0m\n\u001b[0m",
      "\u001b[1;31mNameError\u001b[0m: name 'exp1' is not defined"
     ]
    }
   ],
   "source": [
    "type(exp1)"
   ]
  },
  {
   "cell_type": "code",
   "execution_count": 3,
   "metadata": {},
   "outputs": [
    {
     "name": "stdout",
     "output_type": "stream",
     "text": [
      "14.2\n"
     ]
    },
    {
     "data": {
      "text/plain": [
       "float"
      ]
     },
     "execution_count": 3,
     "metadata": {},
     "output_type": "execute_result"
    }
   ],
   "source": [
    "a = 5 + False + True + 7 + 1.2\n",
    "print(a)\n",
    "type(a)"
   ]
  },
  {
   "cell_type": "code",
   "execution_count": null,
   "metadata": {
    "id": "utM7XhvU_09J",
    "outputId": "17ffaa56-28b3-4456-aab4-b5358a8cd537"
   },
   "outputs": [],
   "source": [
    "# Forced Typecasting\n",
    "exp2 = int(5.43)\n",
    "exp2"
   ]
  },
  {
   "cell_type": "code",
   "execution_count": null,
   "metadata": {
    "id": "FrCBG3Vt_09K",
    "outputId": "b1a0efe3-37d5-43a4-83a6-d9590f25f90e"
   },
   "outputs": [],
   "source": [
    "type(exp2)"
   ]
  },
  {
   "cell_type": "code",
   "execution_count": null,
   "metadata": {
    "id": "Rc6CENSl_09K",
    "outputId": "5c2fa482-7529-4e9d-c314-08d3eeca98c7"
   },
   "outputs": [],
   "source": [
    "# convert 45 into float datatype and type its datatype\n",
    "ex = float(45)\n",
    "ex"
   ]
  },
  {
   "cell_type": "code",
   "execution_count": null,
   "metadata": {
    "id": "GCVtKB6x_09L",
    "outputId": "dc567934-f086-4606-ffd9-39212b41ba47"
   },
   "outputs": [],
   "source": [
    "type(ex)"
   ]
  },
  {
   "cell_type": "code",
   "execution_count": 3,
   "metadata": {
    "id": "6J-Tkcnr_09M",
    "outputId": "fc9a53fa-d7c1-481a-fa6d-30a4402a9843"
   },
   "outputs": [
    {
     "data": {
      "text/plain": [
       "'56'"
      ]
     },
     "execution_count": 3,
     "metadata": {},
     "output_type": "execute_result"
    }
   ],
   "source": [
    "# convert 56 into str \n",
    "s = str(56)\n",
    "s"
   ]
  },
  {
   "cell_type": "code",
   "execution_count": 4,
   "metadata": {
    "collapsed": true,
    "id": "j8iH3gPA_09N",
    "outputId": "e1497873-2f57-4400-d271-6daa0e19e760"
   },
   "outputs": [
    {
     "ename": "ValueError",
     "evalue": "invalid literal for int() with base 10: 'hi'",
     "output_type": "error",
     "traceback": [
      "\u001b[1;31m---------------------------------------------------------------------------\u001b[0m",
      "\u001b[1;31mValueError\u001b[0m                                Traceback (most recent call last)",
      "\u001b[1;32m<ipython-input-4-bbc7d0e10f13>\u001b[0m in \u001b[0;36m<module>\u001b[1;34m\u001b[0m\n\u001b[0;32m      1\u001b[0m \u001b[1;31m# convert hi into int\u001b[0m\u001b[1;33m\u001b[0m\u001b[1;33m\u001b[0m\u001b[1;33m\u001b[0m\u001b[0m\n\u001b[1;32m----> 2\u001b[1;33m \u001b[0mx\u001b[0m \u001b[1;33m=\u001b[0m \u001b[0mint\u001b[0m\u001b[1;33m(\u001b[0m\u001b[1;34m'hi'\u001b[0m\u001b[1;33m)\u001b[0m\u001b[1;33m\u001b[0m\u001b[1;33m\u001b[0m\u001b[0m\n\u001b[0m\u001b[0;32m      3\u001b[0m \u001b[0mx\u001b[0m\u001b[1;33m\u001b[0m\u001b[1;33m\u001b[0m\u001b[0m\n",
      "\u001b[1;31mValueError\u001b[0m: invalid literal for int() with base 10: 'hi'"
     ]
    }
   ],
   "source": [
    "# convert hi into int \n",
    "x = int('hi')\n",
    "x"
   ]
  },
  {
   "cell_type": "code",
   "execution_count": null,
   "metadata": {
    "id": "GoN5XUpc_09N",
    "outputId": "f544f462-16ba-400e-a489-a9ba164ff46b"
   },
   "outputs": [],
   "source": [
    "int('5')"
   ]
  },
  {
   "cell_type": "code",
   "execution_count": null,
   "metadata": {
    "id": "ur6THDcX_09O",
    "outputId": "af4a5238-c51b-4c6e-b99c-4c978e12ae16"
   },
   "outputs": [],
   "source": [
    "float('3.54')"
   ]
  },
  {
   "cell_type": "code",
   "execution_count": null,
   "metadata": {
    "id": "OV2jTsS__09O",
    "outputId": "2f17c3da-e583-48ba-d461-ef229755863b",
    "scrolled": true
   },
   "outputs": [],
   "source": [
    "#convert True into float\n",
    "float(True)"
   ]
  },
  {
   "cell_type": "code",
   "execution_count": null,
   "metadata": {
    "id": "5TqwBXfQ_09P",
    "outputId": "95a2d2f3-d24b-4ed6-dde5-3cc37ada5eee",
    "scrolled": true
   },
   "outputs": [],
   "source": [
    "int(True)"
   ]
  },
  {
   "cell_type": "code",
   "execution_count": null,
   "metadata": {
    "id": "p69-N6tv_09P",
    "outputId": "6953a70f-4689-449d-afc1-bded84b636dc"
   },
   "outputs": [],
   "source": [
    "float('True')"
   ]
  },
  {
   "cell_type": "code",
   "execution_count": null,
   "metadata": {
    "id": "6UOErpGI_09Q",
    "outputId": "f7634f92-b0f3-4626-ae32-c4e49d4cf8e6"
   },
   "outputs": [],
   "source": [
    "# Solve\n",
    "exp3 = 5 + int('14') + float(True) + 15.67 + False -True -53.2\n",
    "exp3"
   ]
  },
  {
   "cell_type": "code",
   "execution_count": null,
   "metadata": {
    "id": "ICmfkXcH_09Q",
    "outputId": "e8058279-6abc-4250-bfde-6e8c4691bd2c"
   },
   "outputs": [],
   "source": [
    "# input ->str\n",
    "num = input(\"Enter a value\")\n",
    "num\n"
   ]
  },
  {
   "cell_type": "code",
   "execution_count": null,
   "metadata": {
    "id": "8C6ke9cp_09S",
    "outputId": "bf8f310d-e7e7-4088-cf7a-678e39a3ba3d"
   },
   "outputs": [],
   "source": [
    "type(num)"
   ]
  },
  {
   "cell_type": "code",
   "execution_count": null,
   "metadata": {
    "id": "DYi1W_to_09S",
    "outputId": "7dbad185-3eca-4526-b399-483d894e32fe"
   },
   "outputs": [],
   "source": [
    "num = int(input(\"Enter a value\"))\n",
    "num\n"
   ]
  },
  {
   "cell_type": "code",
   "execution_count": null,
   "metadata": {
    "id": "NiuTetXK_09T",
    "outputId": "1887b399-691a-4f25-dcdd-0ed9e2638fb2"
   },
   "outputs": [],
   "source": [
    "type(num)"
   ]
  },
  {
   "cell_type": "code",
   "execution_count": null,
   "metadata": {
    "id": "3lg5T4CD_09T",
    "outputId": "17582ed5-c90f-4d97-a355-caaa95fb8de7"
   },
   "outputs": [],
   "source": [
    "num =float( input(\"Enter a value\"))\n",
    "num\n"
   ]
  },
  {
   "cell_type": "code",
   "execution_count": 5,
   "metadata": {
    "id": "XYi39cFt_09V",
    "outputId": "c0815375-e43e-4213-8e70-4ed050b086eb"
   },
   "outputs": [
    {
     "data": {
      "text/plain": [
       "'11'"
      ]
     },
     "execution_count": 5,
     "metadata": {},
     "output_type": "execute_result"
    }
   ],
   "source": [
    "x = str(eval('5+6'))\n",
    "x"
   ]
  },
  {
   "cell_type": "code",
   "execution_count": 6,
   "metadata": {},
   "outputs": [
    {
     "name": "stdout",
     "output_type": "stream",
     "text": [
      "55\n"
     ]
    }
   ],
   "source": [
    "x = 'print(55)'\n",
    "eval(x)"
   ]
  },
  {
   "cell_type": "code",
   "execution_count": null,
   "metadata": {
    "id": "ltL-I30F_09W",
    "outputId": "583ae587-4fd5-4f50-eca4-3ac37b7dc272",
    "scrolled": true
   },
   "outputs": [],
   "source": [
    "num = 10\n",
    "print(\"The value of a number =\",num)"
   ]
  },
  {
   "cell_type": "code",
   "execution_count": null,
   "metadata": {
    "id": "dK8Y5FlA_09W",
    "outputId": "ceb951bd-5f9b-49be-ff15-5179cf9ccf2b"
   },
   "outputs": [],
   "source": [
    "# assign name = 'John' and print the text My name is John\n",
    "name = 'John'\n",
    "print('My name is ',name)\n"
   ]
  },
  {
   "cell_type": "code",
   "execution_count": null,
   "metadata": {
    "id": "6Fng6u1E_09X",
    "outputId": "f1556ea4-ba87-48b6-fedb-feb64f6ffd4d"
   },
   "outputs": [],
   "source": [
    "# Format-{}->place holder\n",
    "name = 'Deepa'\n",
    "age = 33\n",
    "print(\"My name is {} and my age is {}\".format(name,age))"
   ]
  },
  {
   "cell_type": "code",
   "execution_count": 7,
   "metadata": {
    "id": "fc446M8R_09Y",
    "outputId": "2bc64b8a-17df-4de9-a30c-e38c113a20ce"
   },
   "outputs": [
    {
     "name": "stdout",
     "output_type": "stream",
     "text": [
      "My name is Deepa and my age is 33 and my name is Deepa\n"
     ]
    }
   ],
   "source": [
    "name = 'Deepa'\n",
    "age = 33\n",
    "print(\"My name is {1} and my age is {0} and my name is {1}\".format(age,name))"
   ]
  },
  {
   "cell_type": "code",
   "execution_count": null,
   "metadata": {
    "id": "VUzaAP3Z_09Y",
    "outputId": "b25a88fc-d4c1-481e-d892-df701522f709"
   },
   "outputs": [],
   "source": [
    "num = 10\n",
    "print(\"The value of a number is\",num)\n"
   ]
  },
  {
   "cell_type": "code",
   "execution_count": null,
   "metadata": {
    "id": "CQh-p8Z3_09Z",
    "outputId": "e45e4924-b868-4576-b74a-b33a4ee30cd4"
   },
   "outputs": [],
   "source": [
    "name = 'Deepa'\n",
    "age = 33 \n",
    "role = 'Data Scientist'\n",
    "print(\"My name is {} with role as {} and my age is {} \". format(name,role,age))"
   ]
  },
  {
   "cell_type": "code",
   "execution_count": null,
   "metadata": {
    "id": "l6jy98iY_09Z",
    "outputId": "fcf13bf2-a7cf-49d3-8156-2531554a5b1a"
   },
   "outputs": [],
   "source": [
    "print(\"My name is {0} with role as {2} and my age is {1} \". format(name,age,role))"
   ]
  },
  {
   "cell_type": "markdown",
   "metadata": {
    "id": "62RKpMM5_09a"
   },
   "source": [
    "### Slicing \n",
    "* 3 parameters[start:stop(E):step]"
   ]
  },
  {
   "cell_type": "code",
   "execution_count": null,
   "metadata": {
    "id": "nJfy02FB_09a",
    "outputId": "c7e37539-3ebb-4d06-a50f-9ce1f5e675fe"
   },
   "outputs": [],
   "source": [
    "st1 = \"Welcome to Data Science Course\"\n",
    "len(st1) "
   ]
  },
  {
   "cell_type": "code",
   "execution_count": null,
   "metadata": {
    "id": "DhYNCX4C_09b",
    "outputId": "365a8d06-d7e0-4d03-da61-276ef87fdefc"
   },
   "outputs": [],
   "source": [
    "st1[0]"
   ]
  },
  {
   "cell_type": "code",
   "execution_count": null,
   "metadata": {
    "id": "U3EzL2Ia_09c",
    "outputId": "d01aa1c3-72d8-4b39-d155-2c900f383fed"
   },
   "outputs": [],
   "source": [
    "st1[4]"
   ]
  },
  {
   "cell_type": "code",
   "execution_count": null,
   "metadata": {
    "id": "JzzYVuWS_09c",
    "outputId": "57cadfa4-10e3-4640-e096-3d5877ad7b38"
   },
   "outputs": [],
   "source": [
    "st1[3:7] # start,stop"
   ]
  },
  {
   "cell_type": "code",
   "execution_count": null,
   "metadata": {
    "id": "GED0Fw9O_09d",
    "outputId": "4008adbe-ed9d-41ee-e438-84f9a8de0311"
   },
   "outputs": [],
   "source": [
    "st1[11:15]"
   ]
  },
  {
   "cell_type": "code",
   "execution_count": null,
   "metadata": {
    "id": "4GLGpLci_09d",
    "outputId": "44d7c025-cf89-49fd-9319-4b129a2f543e"
   },
   "outputs": [],
   "source": [
    "st1[11:15:3]"
   ]
  },
  {
   "cell_type": "code",
   "execution_count": null,
   "metadata": {
    "id": "ptBNyjHQ_09e",
    "outputId": "6e8321bf-5cdc-4f2b-9294-0998e0d8fdf7"
   },
   "outputs": [],
   "source": [
    "st1[16: :2]"
   ]
  },
  {
   "cell_type": "code",
   "execution_count": null,
   "metadata": {
    "id": "SjOIBh5P_09e",
    "outputId": "2319b6dc-4cfd-40ff-e7ef-9534a30b603e"
   },
   "outputs": [],
   "source": [
    "st1[::-1] # Reverse of the string"
   ]
  },
  {
   "cell_type": "code",
   "execution_count": null,
   "metadata": {
    "id": "ea9iI2ia_09f",
    "outputId": "86d73966-8af8-4ed5-9685-0bd5d7dcba4d"
   },
   "outputs": [],
   "source": [
    "st1[14:10:-1]"
   ]
  },
  {
   "cell_type": "code",
   "execution_count": null,
   "metadata": {
    "id": "NhF61_Zk_09f",
    "outputId": "00795d8b-26ba-4d78-b330-e17da5a73e98"
   },
   "outputs": [],
   "source": [
    "# Other functions->upper,lower,split\n",
    "st1"
   ]
  },
  {
   "cell_type": "code",
   "execution_count": null,
   "metadata": {
    "id": "RyK3UNd-_09g",
    "outputId": "082dcfcb-f11e-4479-cf99-3826d1c50e53"
   },
   "outputs": [],
   "source": [
    "st1.upper()"
   ]
  },
  {
   "cell_type": "code",
   "execution_count": null,
   "metadata": {
    "id": "iLpOmEfP_09g",
    "outputId": "1a41d50c-2538-4e9d-8261-575b64744cf6"
   },
   "outputs": [],
   "source": [
    "st1.lower()"
   ]
  },
  {
   "cell_type": "code",
   "execution_count": null,
   "metadata": {
    "id": "ec51Y9Ry_09h",
    "outputId": "666c764d-06e7-4a96-cb67-59d081b887a1"
   },
   "outputs": [],
   "source": [
    "st1.split()"
   ]
  },
  {
   "cell_type": "code",
   "execution_count": null,
   "metadata": {
    "id": "1V5ZIU9h_09h",
    "outputId": "1c5b3164-fd87-44b6-b8c7-7a357960706d"
   },
   "outputs": [],
   "source": [
    "st1.split('c')"
   ]
  },
  {
   "cell_type": "markdown",
   "metadata": {
    "id": "mjdIquVa_09i"
   },
   "source": [
    "## Mathematical operators"
   ]
  },
  {
   "cell_type": "code",
   "execution_count": null,
   "metadata": {},
   "outputs": [],
   "source": [
    "## + addition\n",
    "## - subtraction\n",
    "## /,//,% for division\n",
    "## * mulltiplication\n",
    "## ** power of "
   ]
  },
  {
   "cell_type": "code",
   "execution_count": null,
   "metadata": {},
   "outputs": [],
   "source": [
    "## +\n",
    "a=5\n",
    "b=6\n",
    "c=a+b"
   ]
  },
  {
   "cell_type": "code",
   "execution_count": null,
   "metadata": {},
   "outputs": [],
   "source": [
    "## division\n",
    "a=15\n",
    "b=6\n",
    "a/b ## when you want output to be float"
   ]
  },
  {
   "cell_type": "code",
   "execution_count": null,
   "metadata": {},
   "outputs": [],
   "source": [
    "a//b ## when you want to get interger outputi.e it will ignore the decimal part"
   ]
  },
  {
   "cell_type": "code",
   "execution_count": null,
   "metadata": {},
   "outputs": [],
   "source": [
    "a=15\n",
    "b=2\n",
    "a//b"
   ]
  },
  {
   "cell_type": "code",
   "execution_count": null,
   "metadata": {},
   "outputs": [],
   "source": [
    "a%b ## when you want reminder"
   ]
  },
  {
   "cell_type": "code",
   "execution_count": null,
   "metadata": {},
   "outputs": [],
   "source": [
    "a=2\n",
    "b=5\n",
    "a*b"
   ]
  },
  {
   "cell_type": "code",
   "execution_count": null,
   "metadata": {},
   "outputs": [],
   "source": [
    "a**5 ## power of"
   ]
  }
 ],
 "metadata": {
  "colab": {
   "name": "Python_Essentials_1.ipynb",
   "provenance": []
  },
  "kernelspec": {
   "display_name": "Python 3",
   "language": "python",
   "name": "python3"
  },
  "language_info": {
   "codemirror_mode": {
    "name": "ipython",
    "version": 3
   },
   "file_extension": ".py",
   "mimetype": "text/x-python",
   "name": "python",
   "nbconvert_exporter": "python",
   "pygments_lexer": "ipython3",
   "version": "3.8.5"
  }
 },
 "nbformat": 4,
 "nbformat_minor": 1
}
