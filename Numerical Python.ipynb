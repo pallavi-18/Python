{
 "cells": [
  {
   "cell_type": "markdown",
   "metadata": {
    "id": "OGHbh2ckuY0_"
   },
   "source": [
    "# Numpy->Numerical Python\n",
    "* foundations for mathematical prob,scientic,numerical prob,\n",
    "* homo multidimensional array\n",
    "#### Topics\n",
    "* Creation of 1D,2D,3D Arrays\n",
    "* Attributes -> ndim,size,dtype,shape,type\n",
    "* Methods->arange,linspace,ravel,random\n",
    "* Stacking->hstack,vstack\n",
    "* Splitting-> hsplit,vsplit\n",
    "* Broadcasting, Boolean masking \n",
    "* Others-> zeros,ones,eye,max,min,copy"
   ]
  },
  {
   "cell_type": "code",
   "execution_count": 5,
   "metadata": {},
   "outputs": [
    {
     "name": "stdout",
     "output_type": "stream",
     "text": [
      "Requirement already satisfied: numpy in c:\\users\\-p\\anaconda3\\lib\\site-packages (1.19.2)\n"
     ]
    }
   ],
   "source": [
    "!pip install numpy"
   ]
  },
  {
   "cell_type": "code",
   "execution_count": 4,
   "metadata": {
    "id": "0YUDKaQUuY1A"
   },
   "outputs": [],
   "source": [
    "import numpy as np"
   ]
  },
  {
   "cell_type": "code",
   "execution_count": 7,
   "metadata": {},
   "outputs": [
    {
     "name": "stdout",
     "output_type": "stream",
     "text": [
      "1.19.2\n"
     ]
    }
   ],
   "source": [
    "#get version\n",
    "print(np.__version__)"
   ]
  },
  {
   "cell_type": "code",
   "execution_count": 8,
   "metadata": {},
   "outputs": [
    {
     "data": {
      "text/plain": [
       "array(1)"
      ]
     },
     "execution_count": 8,
     "metadata": {},
     "output_type": "execute_result"
    }
   ],
   "source": [
    "##Array creation with 0 dim --> point\n",
    "arr=np.array(1)\n",
    "arr"
   ]
  },
  {
   "cell_type": "code",
   "execution_count": 19,
   "metadata": {
    "id": "ojgiF3aAuY1B",
    "outputId": "aeb708e1-5270-491e-b710-3c78cff0f587"
   },
   "outputs": [
    {
     "data": {
      "text/plain": [
       "array([3, 4, 5, 8, 9])"
      ]
     },
     "execution_count": 19,
     "metadata": {},
     "output_type": "execute_result"
    }
   ],
   "source": [
    "#Create a 1D array\n",
    "d1 = np.array([3,4,5,8,9])\n",
    "d1\n",
    "#d2 = np.array(['a','b'])\n",
    "#d2    #data type is printed as it is a string. encoding UTF"
   ]
  },
  {
   "cell_type": "code",
   "execution_count": 14,
   "metadata": {
    "id": "gBZQMjXauY1C",
    "outputId": "6086a7f6-64e8-45b0-e7eb-0b5b9cf6f4da"
   },
   "outputs": [
    {
     "name": "stdout",
     "output_type": "stream",
     "text": [
      "The dimension 1\n",
      "The size 5\n",
      "The datatype int32\n",
      "The type <class 'numpy.ndarray'>\n",
      "Shape (5,)\n",
      "\n",
      "The dimension 1\n",
      "The size 2\n",
      "The datatype <U1\n",
      "The type <class 'numpy.ndarray'>\n",
      "Shape (2,)\n"
     ]
    }
   ],
   "source": [
    "print(\"The dimension\",d1.ndim)   #no of dimensions in the array\n",
    "print(\"The size\",d1.size)    #no. of elements\n",
    "print(\"The datatype\",d1.dtype)   #data type of elements\n",
    "print(\"The type\",type(d1))   #type of d1 --> ndarray\n",
    "print(\"Shape\",d1.shape) #no of rows and col in the array\n",
    "print()\n",
    "print(\"The dimension\",d2.ndim)   \n",
    "print(\"The size\",d2.size)   \n",
    "print(\"The datatype\",d2.dtype)   \n",
    "print(\"The type\",type(d2))   \n",
    "print(\"Shape\",d2.shape)"
   ]
  },
  {
   "cell_type": "code",
   "execution_count": 20,
   "metadata": {},
   "outputs": [
    {
     "name": "stdout",
     "output_type": "stream",
     "text": [
      "[1 2 3]\n"
     ]
    },
    {
     "data": {
      "text/plain": [
       "numpy.ndarray"
      ]
     },
     "execution_count": 20,
     "metadata": {},
     "output_type": "execute_result"
    }
   ],
   "source": [
    "d0 = np.array((1,2,3))\n",
    "print(d0)\n",
    "type(d0) #tuple given to an array hence data type is array"
   ]
  },
  {
   "cell_type": "code",
   "execution_count": 23,
   "metadata": {
    "id": "HyVDea4AuY1D",
    "outputId": "153e1335-2d08-449d-f0e6-4fdf7bcc066f"
   },
   "outputs": [
    {
     "name": "stdout",
     "output_type": "stream",
     "text": [
      "[[1 2 3]\n",
      " [3 4 7]]\n"
     ]
    },
    {
     "data": {
      "text/plain": [
       "numpy.ndarray"
      ]
     },
     "execution_count": 23,
     "metadata": {},
     "output_type": "execute_result"
    }
   ],
   "source": [
    "#CREAte 2D array\n",
    "d2 = np.array([[1,2,3],[3,4,7]])\n",
    "print(d2)\n",
    "type(d2)"
   ]
  },
  {
   "cell_type": "code",
   "execution_count": null,
   "metadata": {
    "id": "iaeld3BiuY1E",
    "outputId": "1550d0ee-2490-451a-96e1-07f4d3e40eea"
   },
   "outputs": [],
   "source": [
    "print(\"The shape is\",d2.shape)"
   ]
  },
  {
   "cell_type": "code",
   "execution_count": null,
   "metadata": {
    "id": "iQjIFn07uY1E",
    "outputId": "a2d1fb3b-b280-46b6-b01e-09d3b9d1e31c"
   },
   "outputs": [],
   "source": [
    "print(\"The dimension\",d2.ndim)\n",
    "print(\"The size\",d2.size)\n",
    "print(\"The datatype\",d2.dtype)\n",
    "print(\"The type\",type(d2))"
   ]
  },
  {
   "cell_type": "code",
   "execution_count": null,
   "metadata": {
    "id": "OruWKjyxuY1F",
    "outputId": "0a366921-5e2d-4791-944f-25aec2f40fe0"
   },
   "outputs": [],
   "source": [
    "#Creating a 3D Array\n",
    "d3 = np.array([[[1,2],[2,3],[3,4]],[[4,5],[5,6],[6,7]]])\n",
    "d3"
   ]
  },
  {
   "cell_type": "code",
   "execution_count": null,
   "metadata": {
    "id": "7o7S84tauY1G",
    "outputId": "474e4168-18ca-4bb2-8550-a0fd36929f25"
   },
   "outputs": [],
   "source": [
    "print(\"The dimension\",d3.ndim)\n",
    "print(\"The size\",d3.size)\n",
    "print(\"The datatype\",d3.dtype)\n",
    "print(\"The type\",type(d3))\n",
    "print(\"The shape is\",d3.shape) #(3d,2d,1d)"
   ]
  },
  {
   "cell_type": "markdown",
   "metadata": {
    "id": "N7_a2zoruY1H"
   },
   "source": [
    "# Methods\n",
    "* arange->similar to range\n",
    "* linspace\n",
    "* ravel\n",
    "* random"
   ]
  },
  {
   "cell_type": "code",
   "execution_count": null,
   "metadata": {
    "id": "7FS1gqXAuY1H",
    "outputId": "1c062627-d94e-4b4f-a5fd-7b981b594bca"
   },
   "outputs": [],
   "source": [
    "np.arange(5) #stop"
   ]
  },
  {
   "cell_type": "code",
   "execution_count": null,
   "metadata": {
    "id": "thsF4iYHuY1I",
    "outputId": "06b36157-acab-4fc4-ec41-91499df3a91d"
   },
   "outputs": [],
   "source": [
    "np.arange(1,5) # start,stop"
   ]
  },
  {
   "cell_type": "code",
   "execution_count": null,
   "metadata": {
    "id": "OhW9G6p9uY1I",
    "outputId": "776c37ec-95f6-4b8b-f464-309bcbef084b"
   },
   "outputs": [],
   "source": [
    "np.arange(1,10,1) #start,stop,step"
   ]
  },
  {
   "cell_type": "code",
   "execution_count": null,
   "metadata": {
    "id": "Giv_OyoBuY1K",
    "outputId": "59d118a4-15d4-440f-a103-a9f7e7dfe5db"
   },
   "outputs": [],
   "source": [
    "np.arange(50,100,5)"
   ]
  },
  {
   "cell_type": "code",
   "execution_count": null,
   "metadata": {
    "id": "X2pfbOUOuY1L",
    "outputId": "d77b345d-f39e-4d5f-b0cc-d1d3f8459cde"
   },
   "outputs": [],
   "source": [
    "np.arange(50,100,5).reshape(2,5)"
   ]
  },
  {
   "cell_type": "code",
   "execution_count": null,
   "metadata": {
    "id": "oH2ka74kuY1L",
    "outputId": "3fc96ba5-1a6a-4cac-9e58-f0d41b294826",
    "scrolled": true
   },
   "outputs": [],
   "source": [
    "np.arange(50,100,5).reshape(5,2)"
   ]
  },
  {
   "cell_type": "code",
   "execution_count": null,
   "metadata": {
    "id": "hlj2KumkuY1M",
    "outputId": "ebb36709-3bb2-405c-81cf-03e909ea247a",
    "scrolled": true
   },
   "outputs": [],
   "source": [
    "np.arange(50,100,5).reshape(5,1,2)"
   ]
  },
  {
   "cell_type": "code",
   "execution_count": null,
   "metadata": {
    "id": "WugT5mUjuY1N",
    "outputId": "7bb5503b-7849-4453-b115-7faa18bd409d"
   },
   "outputs": [],
   "source": [
    "np.arange(50,100,5).reshape(1,1,2,5)"
   ]
  },
  {
   "cell_type": "code",
   "execution_count": null,
   "metadata": {
    "id": "S84FMABEuY1N",
    "outputId": "c08889d4-588c-4671-a813-0a566ad6027e"
   },
   "outputs": [],
   "source": [
    "np.arange(1,16).reshape(3,5)"
   ]
  },
  {
   "cell_type": "code",
   "execution_count": null,
   "metadata": {
    "id": "wr_v9X05uY1P",
    "outputId": "62345f14-c11a-44d2-9645-0b0e7806a3fe"
   },
   "outputs": [],
   "source": [
    "#linspace ->start,stop,no.of elements->(stop-Included)\n",
    "np.linspace(1,50,10)"
   ]
  },
  {
   "cell_type": "code",
   "execution_count": null,
   "metadata": {
    "id": "w4Zx4R36uY1P",
    "outputId": "bba98dbf-99ac-4c59-8634-14545084a301"
   },
   "outputs": [],
   "source": [
    "np.linspace(1,50,10,retstep=True)"
   ]
  },
  {
   "cell_type": "code",
   "execution_count": 5,
   "metadata": {
    "id": "iXeDskqruY1Q",
    "outputId": "90c48afb-0079-4e9f-fd43-b00a822746cb"
   },
   "outputs": [
    {
     "data": {
      "text/plain": [
       "array([[[ 0,  1],\n",
       "        [ 2,  3],\n",
       "        [ 4,  5],\n",
       "        [ 6,  7],\n",
       "        [ 8,  9]],\n",
       "\n",
       "       [[10, 11],\n",
       "        [12, 13],\n",
       "        [14, 15],\n",
       "        [16, 17],\n",
       "        [18, 19]],\n",
       "\n",
       "       [[20, 21],\n",
       "        [22, 23],\n",
       "        [24, 25],\n",
       "        [26, 27],\n",
       "        [28, 29]],\n",
       "\n",
       "       [[30, 31],\n",
       "        [32, 33],\n",
       "        [34, 35],\n",
       "        [36, 37],\n",
       "        [38, 39]],\n",
       "\n",
       "       [[40, 41],\n",
       "        [42, 43],\n",
       "        [44, 45],\n",
       "        [46, 47],\n",
       "        [48, 49]]])"
      ]
     },
     "execution_count": 5,
     "metadata": {},
     "output_type": "execute_result"
    }
   ],
   "source": [
    "#ravel converts array of any dim to a single (1D )\n",
    "a2 = np.arange(50).reshape(5,5,2)\n",
    "a2"
   ]
  },
  {
   "cell_type": "code",
   "execution_count": 6,
   "metadata": {
    "id": "JZomXIMquY1R",
    "outputId": "cc45fc6b-0def-4905-dabd-8a78689f0de4",
    "scrolled": true
   },
   "outputs": [
    {
     "data": {
      "text/plain": [
       "array([ 0,  1,  2,  3,  4,  5,  6,  7,  8,  9, 10, 11, 12, 13, 14, 15, 16,\n",
       "       17, 18, 19, 20, 21, 22, 23, 24, 25, 26, 27, 28, 29, 30, 31, 32, 33,\n",
       "       34, 35, 36, 37, 38, 39, 40, 41, 42, 43, 44, 45, 46, 47, 48, 49])"
      ]
     },
     "execution_count": 6,
     "metadata": {},
     "output_type": "execute_result"
    }
   ],
   "source": [
    "a2.ravel()"
   ]
  },
  {
   "cell_type": "code",
   "execution_count": null,
   "metadata": {},
   "outputs": [],
   "source": [
    "# create 2d array and convert it into 1D\n",
    "d2=np.array([[1,2,3],[4,6,7]])\n",
    "dr\n",
    "#dr.ravel()"
   ]
  },
  {
   "cell_type": "code",
   "execution_count": 14,
   "metadata": {},
   "outputs": [
    {
     "data": {
      "text/plain": [
       "array([1, 2, 3, 4, 5, 6, 7, 8, 9])"
      ]
     },
     "execution_count": 14,
     "metadata": {},
     "output_type": "execute_result"
    }
   ],
   "source": [
    "l1 = [1,2,3]\n",
    "l2 = [4,5,6]\n",
    "l3 = [7,8,9]\n",
    "ar1=np.array([l1,l2,l3])\n",
    "ar1\n",
    "ar1.ravel()"
   ]
  },
  {
   "cell_type": "code",
   "execution_count": 8,
   "metadata": {
    "id": "Ej6WM5lauY1R",
    "outputId": "6b98d0fd-a13a-46c4-f6a2-6fe901997260",
    "scrolled": true
   },
   "outputs": [
    {
     "data": {
      "text/plain": [
       "array([0.66357044, 0.54857094, 0.90385041, 0.42623885, 0.44024578])"
      ]
     },
     "execution_count": 8,
     "metadata": {},
     "output_type": "execute_result"
    }
   ],
   "source": [
    "#random->create random nos->rand->(0,1)\n",
    "np.random.rand(5)"
   ]
  },
  {
   "cell_type": "code",
   "execution_count": 15,
   "metadata": {
    "id": "FA0JT7T-uY1S",
    "outputId": "bc6d4420-aabf-4d8a-b2ed-3846fde174da"
   },
   "outputs": [
    {
     "data": {
      "text/plain": [
       "array([90.56929031, 34.0106944 ,  4.50243756, 27.46580573, 49.62335748])"
      ]
     },
     "execution_count": 15,
     "metadata": {},
     "output_type": "execute_result"
    }
   ],
   "source": [
    "np.random.rand(5)*100"
   ]
  },
  {
   "cell_type": "code",
   "execution_count": 24,
   "metadata": {
    "id": "rKXC-Yy-uY1T",
    "outputId": "964eb65d-9e2b-42ed-c377-20498e2a5ab0"
   },
   "outputs": [
    {
     "data": {
      "text/plain": [
       "1"
      ]
     },
     "execution_count": 24,
     "metadata": {},
     "output_type": "execute_result"
    }
   ],
   "source": [
    "np.random.randint(5) #int random no 0 to 4"
   ]
  },
  {
   "cell_type": "code",
   "execution_count": 32,
   "metadata": {
    "id": "JAr8wBKkuY1T",
    "outputId": "104701ef-050d-46c6-cbb8-af084da03d43"
   },
   "outputs": [
    {
     "data": {
      "text/plain": [
       "3"
      ]
     },
     "execution_count": 32,
     "metadata": {},
     "output_type": "execute_result"
    }
   ],
   "source": [
    "np.random.randint(1,5) #int 1 to 4"
   ]
  },
  {
   "cell_type": "code",
   "execution_count": 22,
   "metadata": {
    "id": "hfL2q0mIuY1U",
    "outputId": "f272d6ad-3992-4162-c9ba-c38f914502d6"
   },
   "outputs": [
    {
     "data": {
      "text/plain": [
       "array([[0.8759766 , 0.84867989],\n",
       "       [0.47903449, 0.17883009],\n",
       "       [0.72287827, 0.04617578],\n",
       "       [0.37971333, 0.4975454 ],\n",
       "       [0.95137894, 0.98767874]])"
      ]
     },
     "execution_count": 22,
     "metadata": {},
     "output_type": "execute_result"
    }
   ],
   "source": [
    "np.random.rand(10).reshape(5,2)"
   ]
  },
  {
   "cell_type": "code",
   "execution_count": null,
   "metadata": {
    "id": "y-mCwGe7uY1U",
    "outputId": "e30fc95a-8642-41b0-eab9-2ff93424c795"
   },
   "outputs": [],
   "source": [
    "np.linspace(1,5,4,retstep=True)"
   ]
  },
  {
   "cell_type": "code",
   "execution_count": null,
   "metadata": {
    "id": "abMkM1inuY1V",
    "outputId": "df10ee62-f73c-4682-f232-7072599cdc3f"
   },
   "outputs": [],
   "source": [
    "a=np.linspace(0,50,11,retstep=True,dtype=str)\n",
    "a"
   ]
  },
  {
   "cell_type": "code",
   "execution_count": null,
   "metadata": {
    "id": "rQueBYIDuY1V"
   },
   "outputs": [],
   "source": [
    "a=np.linspace(1,50,5)"
   ]
  },
  {
   "cell_type": "code",
   "execution_count": null,
   "metadata": {
    "id": "YiQotr-ouY1W",
    "outputId": "0a2a67ea-1517-49b8-9fc4-e844ae390a9f"
   },
   "outputs": [],
   "source": [
    "a"
   ]
  },
  {
   "cell_type": "code",
   "execution_count": null,
   "metadata": {
    "id": "JMocm6KIuY1W",
    "outputId": "6d3dab19-d4a1-4621-a3e6-120ccd4bc037"
   },
   "outputs": [],
   "source": [
    "type(a)"
   ]
  },
  {
   "cell_type": "code",
   "execution_count": null,
   "metadata": {
    "id": "8HgMBpekuY1X",
    "outputId": "98ae5a58-19ee-4897-f4a9-139a24debe53"
   },
   "outputs": [],
   "source": [
    "a=np.linspace(0,50,11)\n",
    "type(a)\n",
    "a"
   ]
  },
  {
   "cell_type": "code",
   "execution_count": null,
   "metadata": {
    "id": "jccrMIp-uY1X",
    "outputId": "dc440b76-f316-4444-a136-e1f82c32a85f"
   },
   "outputs": [],
   "source": [
    "np.random.randint(1,50,5)"
   ]
  },
  {
   "cell_type": "markdown",
   "metadata": {
    "id": "jfqrFJFWuY1Y"
   },
   "source": [
    "# Stacking\n",
    "* hstack\n",
    "* vstack"
   ]
  },
  {
   "cell_type": "code",
   "execution_count": null,
   "metadata": {
    "id": "2XdYAeDmuY1Y",
    "outputId": "2347215a-928e-47d5-ca40-fb89b2aabb4c"
   },
   "outputs": [],
   "source": [
    "a1= np.arange(10,50).reshape(10,4)\n",
    "a1"
   ]
  },
  {
   "cell_type": "code",
   "execution_count": null,
   "metadata": {
    "id": "CA58M-qMuY1Z",
    "outputId": "cd6c12ae-6c85-4d9f-914d-5c90de3378a0"
   },
   "outputs": [],
   "source": [
    "a2=np.linspace(10,50,40).reshape(10,4)\n",
    "a2"
   ]
  },
  {
   "cell_type": "code",
   "execution_count": null,
   "metadata": {
    "id": "iJrXe_2yuY1a",
    "outputId": "1ad4c434-d492-49ff-92a1-21c687e2b328"
   },
   "outputs": [],
   "source": [
    "type(a2)"
   ]
  },
  {
   "cell_type": "code",
   "execution_count": null,
   "metadata": {
    "id": "ktnInVX3uY1b",
    "outputId": "87a3b452-27c6-4e7f-a11d-a231a5defa74"
   },
   "outputs": [],
   "source": [
    "a2.dtype"
   ]
  },
  {
   "cell_type": "code",
   "execution_count": null,
   "metadata": {
    "id": "p6L0rLdIuY1c",
    "outputId": "5656e299-2b61-422f-d94f-97700571a545"
   },
   "outputs": [],
   "source": [
    "a1"
   ]
  },
  {
   "cell_type": "code",
   "execution_count": null,
   "metadata": {
    "id": "2WY8VCk0uY1c",
    "outputId": "03547a24-e843-45fd-9a15-50867bfb672c"
   },
   "outputs": [],
   "source": [
    "a2"
   ]
  },
  {
   "cell_type": "code",
   "execution_count": null,
   "metadata": {
    "id": "0Y3pZTSLuY1d",
    "outputId": "bfba2777-74de-47b1-84ca-b1b098a393fc"
   },
   "outputs": [],
   "source": [
    "np.hstack((a1,a2))"
   ]
  },
  {
   "cell_type": "code",
   "execution_count": null,
   "metadata": {
    "id": "XobsRx2huY1e",
    "outputId": "7e409439-6e54-4969-d4ed-1bb888617db5"
   },
   "outputs": [],
   "source": [
    "np.vstack((a1,a2))"
   ]
  },
  {
   "cell_type": "code",
   "execution_count": null,
   "metadata": {
    "id": "YjGUJSu6uY1e",
    "outputId": "21851b33-bc13-4e5d-f009-9b42294717bb"
   },
   "outputs": [],
   "source": [
    "#Create 2 arrays, 1st array->15(0-14) 2nd array->15(20-34)\n",
    "# Use hstack and vstack\n",
    "ab1=np.arange(15).reshape(5,3)\n",
    "ab2=np.arange(20,35).reshape(5,3)\n",
    "print(ab1)\n",
    "print(ab2)"
   ]
  },
  {
   "cell_type": "code",
   "execution_count": null,
   "metadata": {
    "id": "ilTSN29wuY1f",
    "outputId": "0787b66f-66ac-42b9-d65b-b628a8ea38bc"
   },
   "outputs": [],
   "source": [
    "np.hstack((ab1,ab2))"
   ]
  },
  {
   "cell_type": "code",
   "execution_count": null,
   "metadata": {
    "id": "RCVlFobcuY1g",
    "outputId": "e595c712-7150-409b-fcb8-e1e516f0606e"
   },
   "outputs": [],
   "source": [
    "np.vstack((ab1,ab2))"
   ]
  },
  {
   "cell_type": "code",
   "execution_count": null,
   "metadata": {
    "id": "Uhs64IgSuY1g",
    "outputId": "646841fc-655f-4a13-d6c1-83a5dc66af52"
   },
   "outputs": [],
   "source": [
    "np.hstack((ab1,ab2,ab1))"
   ]
  },
  {
   "cell_type": "code",
   "execution_count": null,
   "metadata": {
    "id": "OYrS7fOCuY1h",
    "outputId": "eaef5237-a99d-4e62-8d4a-1df05d8a0277"
   },
   "outputs": [],
   "source": [
    "a = np.arange(15).reshape(3,5)\n",
    "a"
   ]
  },
  {
   "cell_type": "code",
   "execution_count": null,
   "metadata": {
    "id": "6cM1VRZKuY1h",
    "outputId": "e5cfb043-be2e-46f0-e591-5fd3764bea72"
   },
   "outputs": [],
   "source": [
    "#Split->hsplit,vsplit\n",
    "ab1"
   ]
  },
  {
   "cell_type": "code",
   "execution_count": null,
   "metadata": {
    "id": "zfr0I0PluY1i",
    "outputId": "49e0c41c-02e5-4cd9-ddb6-9466ef865058"
   },
   "outputs": [],
   "source": [
    "ab2"
   ]
  },
  {
   "cell_type": "code",
   "execution_count": null,
   "metadata": {
    "id": "eDAeR1gJuY1j",
    "outputId": "2013636b-ee12-47fe-c2ed-464c125a4715"
   },
   "outputs": [],
   "source": [
    "np.hsplit(ab1,3)"
   ]
  },
  {
   "cell_type": "code",
   "execution_count": null,
   "metadata": {
    "id": "d_Hj6NXouY1j",
    "outputId": "cd8330d7-c75a-4374-f736-6a033ef131fb"
   },
   "outputs": [],
   "source": [
    "np.vsplit(ab1,5)"
   ]
  },
  {
   "cell_type": "code",
   "execution_count": null,
   "metadata": {
    "id": "rb14Mo2zuY1k",
    "outputId": "a9761ea4-4fc4-4ff4-9859-0e6623979ef1"
   },
   "outputs": [],
   "source": [
    "a3=np.arange(24).reshape(6,4)\n",
    "a3"
   ]
  },
  {
   "cell_type": "code",
   "execution_count": null,
   "metadata": {
    "id": "d_GW5bnmuY1k",
    "outputId": "03f02fec-d2c7-4491-b267-08f57d1c4290"
   },
   "outputs": [],
   "source": [
    "np.hsplit(a3,2)"
   ]
  },
  {
   "cell_type": "code",
   "execution_count": null,
   "metadata": {
    "id": "3RHcJ35xuY1l",
    "outputId": "7481986c-4043-40bb-a207-798a9c3593ed"
   },
   "outputs": [],
   "source": [
    "np.hsplit(a3,4)"
   ]
  },
  {
   "cell_type": "code",
   "execution_count": null,
   "metadata": {
    "id": "ZvK2xchxuY1l",
    "outputId": "8467cf4c-7a0e-4766-9034-7e1c162d8ce1"
   },
   "outputs": [],
   "source": [
    "a3"
   ]
  },
  {
   "cell_type": "code",
   "execution_count": null,
   "metadata": {
    "id": "X1ltydTbuY1m",
    "outputId": "ebc41bd7-2856-4412-96eb-c56639c91211"
   },
   "outputs": [],
   "source": [
    "np.vsplit(a3,3)"
   ]
  },
  {
   "cell_type": "code",
   "execution_count": null,
   "metadata": {
    "id": "_MgAOeCruY1m",
    "outputId": "446bd2ec-bcf6-44f6-f651-3478e1ead6b7"
   },
   "outputs": [],
   "source": [
    "np.vsplit(a3,2)"
   ]
  },
  {
   "cell_type": "code",
   "execution_count": null,
   "metadata": {
    "id": "HfBC0DLvuY1n",
    "outputId": "cd189d8e-196d-4e4d-9501-8e6fa78e278a"
   },
   "outputs": [],
   "source": [
    "np.vsplit(a3,6)"
   ]
  },
  {
   "cell_type": "code",
   "execution_count": null,
   "metadata": {
    "id": "sVrzaYouuY1n",
    "outputId": "7bfee048-2ec4-4924-f955-3d4dba3156e1"
   },
   "outputs": [],
   "source": [
    "a10 = np.arange(24).reshape(2,3,4)\n",
    "a11= np.hsplit(a10,3)\n",
    "print(a10)\n",
    "print(a11)\n"
   ]
  },
  {
   "cell_type": "code",
   "execution_count": null,
   "metadata": {
    "id": "UaTO6GiyuY1o",
    "outputId": "fa948dcf-8f8c-42c9-b587-9b03c659fc01"
   },
   "outputs": [],
   "source": [
    "# Broadcasting \n",
    "a3"
   ]
  },
  {
   "cell_type": "code",
   "execution_count": null,
   "metadata": {
    "id": "MuCXrWIiuY1o"
   },
   "outputs": [],
   "source": [
    "a3[0:2,]=50"
   ]
  },
  {
   "cell_type": "code",
   "execution_count": null,
   "metadata": {
    "id": "75nLk11juY1p",
    "outputId": "b46b2e2e-cb99-4924-c429-680dd54acef5"
   },
   "outputs": [],
   "source": [
    "a3"
   ]
  },
  {
   "cell_type": "code",
   "execution_count": null,
   "metadata": {
    "id": "cX-S75iEuY1p",
    "outputId": "f5a4bfd8-2315-4da9-97b0-4df20520ef84"
   },
   "outputs": [],
   "source": [
    "a3[4:,1:3]=50\n",
    "a3"
   ]
  },
  {
   "cell_type": "code",
   "execution_count": null,
   "metadata": {
    "id": "ajDgzaz2uY1q",
    "outputId": "2d0d57f0-f9b1-4e6e-c5ef-7595b4e43ee0"
   },
   "outputs": [],
   "source": [
    "ab1"
   ]
  },
  {
   "cell_type": "code",
   "execution_count": null,
   "metadata": {
    "id": "sHo8KSchuY1q",
    "outputId": "e4ecf590-8953-4e6b-dfee-9a85e383f2f2",
    "scrolled": true
   },
   "outputs": [],
   "source": [
    "# 2nd & 3rd column replace with 100\n",
    "ab1[:,1:3] = 100\n",
    "ab1"
   ]
  },
  {
   "cell_type": "code",
   "execution_count": null,
   "metadata": {
    "id": "chdPG8XCuY1u",
    "outputId": "fe3457b5-c496-4eb4-b8cc-01d52ea5cee6"
   },
   "outputs": [],
   "source": [
    "ab1[4:,2:] = 50\n",
    "ab1"
   ]
  },
  {
   "cell_type": "code",
   "execution_count": null,
   "metadata": {
    "id": "QDGB4igEuY1u",
    "outputId": "7397390d-3804-4ae0-be73-01a1ac60fad8"
   },
   "outputs": [],
   "source": [
    "# Boolean Masking\n",
    "ab1"
   ]
  },
  {
   "cell_type": "code",
   "execution_count": null,
   "metadata": {
    "id": "c8ovyCF3uY1v"
   },
   "outputs": [],
   "source": [
    "re = 0 == ab1%2 # re= ab1%2==0"
   ]
  },
  {
   "cell_type": "code",
   "execution_count": null,
   "metadata": {
    "id": "y1XbgWt9uY1v",
    "outputId": "fbfeb5b0-c69d-477d-e814-b3d188314b77"
   },
   "outputs": [],
   "source": [
    "ab1[re]"
   ]
  },
  {
   "cell_type": "code",
   "execution_count": null,
   "metadata": {
    "id": "uDP_8cgRuY1w",
    "outputId": "483ffa24-a445-499f-f2fb-a6b924bb713e"
   },
   "outputs": [],
   "source": [
    "re"
   ]
  },
  {
   "cell_type": "code",
   "execution_count": null,
   "metadata": {
    "id": "mMdvZRhYuY1w",
    "outputId": "4b881689-7531-4c74-ff25-e3ccc49f5c36"
   },
   "outputs": [],
   "source": [
    "re1 = 0 == ab1%3\n",
    "re1"
   ]
  },
  {
   "cell_type": "code",
   "execution_count": null,
   "metadata": {
    "id": "V7MhQqrZuY1x",
    "outputId": "72718e6b-4d78-4d38-987a-0436251a5a53"
   },
   "outputs": [],
   "source": [
    "#zeros,ones,eye,max,min,copy\n",
    "np.zeros(2)"
   ]
  },
  {
   "cell_type": "code",
   "execution_count": null,
   "metadata": {
    "id": "9Wb4oBr9uY1x",
    "outputId": "7fbbfd22-a394-4497-faaf-0f9acbc6d986"
   },
   "outputs": [],
   "source": [
    "np.zeros((2,2))"
   ]
  },
  {
   "cell_type": "code",
   "execution_count": null,
   "metadata": {
    "id": "wPEvSaYGuY1y",
    "outputId": "c5c651c6-0be5-43ec-c154-ed51c64bb9c3"
   },
   "outputs": [],
   "source": [
    "np.ones((2,3),dtype=int)"
   ]
  },
  {
   "cell_type": "code",
   "execution_count": null,
   "metadata": {
    "id": "ow-NqnjcuY1y",
    "outputId": "f48598b1-fb55-4acf-f033-c198e9e3c016"
   },
   "outputs": [],
   "source": [
    "np.eye(3)"
   ]
  },
  {
   "cell_type": "code",
   "execution_count": null,
   "metadata": {
    "id": "_2hWxBm3uY1z",
    "outputId": "f89d8618-13ca-4e34-cd98-897826090122"
   },
   "outputs": [],
   "source": [
    "np.eye(5)"
   ]
  },
  {
   "cell_type": "code",
   "execution_count": null,
   "metadata": {
    "id": "Ope5QKE4uY1z",
    "outputId": "0fc4fa5a-cb14-4027-a5ac-f478d442b69b"
   },
   "outputs": [],
   "source": [
    "ab1"
   ]
  },
  {
   "cell_type": "code",
   "execution_count": null,
   "metadata": {
    "id": "5zcOqGaLuY10",
    "outputId": "dfb2e687-8411-4652-c408-d54ff8d68681"
   },
   "outputs": [],
   "source": [
    "np.max(ab1)"
   ]
  },
  {
   "cell_type": "code",
   "execution_count": null,
   "metadata": {
    "id": "8BdEDQrruY10",
    "outputId": "7baceafd-51bb-4782-9c07-5a6591d7fe27"
   },
   "outputs": [],
   "source": [
    "np.min(ab1)"
   ]
  },
  {
   "cell_type": "code",
   "execution_count": null,
   "metadata": {
    "id": "ejfqNTAIuY11",
    "outputId": "d86510d2-ab5a-4ef2-afa6-233ae2ad1446"
   },
   "outputs": [],
   "source": [
    "ab3=ab1.copy()\n",
    "ab3"
   ]
  },
  {
   "cell_type": "code",
   "execution_count": null,
   "metadata": {
    "id": "Asyxk05BuY11",
    "outputId": "97516d23-4ac7-49c2-e715-8dff78818728"
   },
   "outputs": [],
   "source": [
    "np.eye(5)*5"
   ]
  },
  {
   "cell_type": "code",
   "execution_count": null,
   "metadata": {
    "id": "xR2UiEBUuY12"
   },
   "outputs": [],
   "source": [
    "ab4=ab1"
   ]
  },
  {
   "cell_type": "code",
   "execution_count": null,
   "metadata": {
    "id": "XyjpHGPsuY12",
    "outputId": "d6b4e55b-061b-4a6c-a9f8-5a24f4c545ae"
   },
   "outputs": [],
   "source": [
    "ab4"
   ]
  },
  {
   "cell_type": "code",
   "execution_count": null,
   "metadata": {
    "id": "amrBywLAuY13",
    "outputId": "9c409be1-12ad-4ad0-bf13-4fb2777c2ec5"
   },
   "outputs": [],
   "source": [
    "ab1"
   ]
  },
  {
   "cell_type": "code",
   "execution_count": null,
   "metadata": {
    "id": "I1ccDFMKuY13",
    "outputId": "cbe61cde-7286-4296-e643-744f422d7faa"
   },
   "outputs": [],
   "source": [
    "ab4"
   ]
  },
  {
   "cell_type": "code",
   "execution_count": null,
   "metadata": {
    "id": "I6DTlcnHuY14",
    "outputId": "8d7276ff-ceeb-4886-ec59-4e3281ecc338"
   },
   "outputs": [],
   "source": [
    "b=ab1+ab4\n",
    "b"
   ]
  },
  {
   "cell_type": "code",
   "execution_count": null,
   "metadata": {
    "id": "m0Cux6XyuY14",
    "outputId": "2a40884f-dff1-4acd-9f42-41603b34a546"
   },
   "outputs": [],
   "source": [
    "c=ab1-ab4\n",
    "c"
   ]
  },
  {
   "cell_type": "code",
   "execution_count": null,
   "metadata": {
    "id": "oh23YIf8uY15"
   },
   "outputs": [],
   "source": []
  }
 ],
 "metadata": {
  "colab": {
   "name": "Numpy-21-12.ipynb",
   "provenance": []
  },
  "kernelspec": {
   "display_name": "Python 3",
   "language": "python",
   "name": "python3"
  }
 },
 "nbformat": 4,
 "nbformat_minor": 1
}
