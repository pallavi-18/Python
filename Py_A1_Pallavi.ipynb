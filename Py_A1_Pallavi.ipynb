{
 "cells": [
  {
   "cell_type": "code",
   "execution_count": 1,
   "metadata": {},
   "outputs": [
    {
     "name": "stdout",
     "output_type": "stream",
     "text": [
      "Python Version\n",
      "3.8.5 (default, Sep  3 2020, 21:29:08) [MSC v.1916 64 bit (AMD64)]\n",
      "\n",
      "Version info.\n",
      "sys.version_info(major=3, minor=8, micro=5, releaselevel='final', serial=0)\n",
      "\n"
     ]
    }
   ],
   "source": [
    "# 1)Write a Python program to get the Python version you are using\n",
    "import sys\n",
    "print(\"Python Version\")\n",
    "print (sys.version)\n",
    "print()\n",
    "print(\"Version info.\")\n",
    "print (sys.version_info)\n",
    "print()"
   ]
  },
  {
   "cell_type": "code",
   "execution_count": 21,
   "metadata": {},
   "outputs": [
    {
     "name": "stdout",
     "output_type": "stream",
     "text": [
      "Current date and time : \n",
      "2021-05-20 11:32:39\n"
     ]
    }
   ],
   "source": [
    "# 2)Write a Python program to display the current date and time\n",
    "import datetime\n",
    "now = datetime.datetime.now()\n",
    "print (\"Current date and time : \")\n",
    "print (now.strftime(\"%Y-%m-%d %H:%M:%S\"))"
   ]
  },
  {
   "cell_type": "code",
   "execution_count": null,
   "metadata": {},
   "outputs": [],
   "source": [
    "# 3) Write a Python program which accepts the radius of a circle from the user and compute the area.\n",
    "from math import pi\n",
    "r=float(input(\"Enter radius of circle= \"))\n",
    "A = pi * r * r\n",
    "print(\"Area is \" + str(A))"
   ]
  },
  {
   "cell_type": "code",
   "execution_count": null,
   "metadata": {},
   "outputs": [],
   "source": [
    "# 4)Solve the expression. 5.2 + True + bool(-5) - 4 + 42//5 +bool(0) + False + int(5.9) + float('1')\n",
    "a = 5.2 + True + bool(-5) - 4 + 42//5 +bool(0) + False + int(5.9) + float('1')\n",
    "print(a)"
   ]
  },
  {
   "cell_type": "code",
   "execution_count": null,
   "metadata": {},
   "outputs": [],
   "source": [
    "# 5)Write code to test whether the given number lies between 1 and 10\n",
    "'''\n",
    "#Option1\n",
    "\n",
    "n = int(input(\"Enter any number: \"))\n",
    "x = range(1,11)\n",
    "if n in x:\n",
    "    print(\"It exists b/w 1 to 10\")\n",
    "else:\n",
    "    print(\"Does not exist\")\n",
    "'''\n",
    "#Option 2\n",
    "\n",
    "n = int(input(\"Enter any number= \"))\n",
    "if 0<n<=10:\n",
    "    print(\"yes\")\n",
    "else:\n",
    "    print(\"no\")\n",
    "\n",
    "\"\"\"\n",
    "#Option 3 \n",
    "\n",
    "n = int(input(\"Enter any num= \"))\n",
    "if n in range(1,11):\n",
    "    print(\"yes\")\n",
    "else:\n",
    "    print(\"no\")\n",
    "\"\"\""
   ]
  },
  {
   "cell_type": "code",
   "execution_count": null,
   "metadata": {},
   "outputs": [],
   "source": [
    "# 6)sum the numbers from 1 to 20 using for loop \n",
    "i=1\n",
    "sum=0\n",
    "for i in range(21):\n",
    "    sum+=i\n",
    "print(\"Sum of 1 to 20 is \",sum)"
   ]
  },
  {
   "cell_type": "code",
   "execution_count": null,
   "metadata": {},
   "outputs": [],
   "source": [
    "#  7)Display the numbers in reverse from 100 to 1\n",
    "\n",
    "#option1\n",
    "L1=[]\n",
    "for i in range(1,101):\n",
    "    L1.append(i)\n",
    "L1.reverse()\n",
    "print(L1)\n",
    "'''\n",
    "#Option2\n",
    "L1 = []\n",
    "for i in range(100,0,-1):\n",
    "    L1.append(i)\n",
    "print(L1)\n",
    "'''"
   ]
  },
  {
   "cell_type": "code",
   "execution_count": null,
   "metadata": {},
   "outputs": [],
   "source": [
    "# 8)Display multiples of 2 from 10 to 50 using range\n",
    "for i in range(10,51,2):\n",
    "    print(i)"
   ]
  },
  {
   "cell_type": "code",
   "execution_count": 1,
   "metadata": {},
   "outputs": [
    {
     "name": "stdout",
     "output_type": "stream",
     "text": [
      "Bangalore\n"
     ]
    }
   ],
   "source": [
    "# 9)From the below nested dictionary, pick the word \"Bangalore\". \n",
    "d = {'1':'One','2':[1,{'Two':['Ch','Cbe','Salem',{'Place':[5,6,7,'Bangalore']}]}]}\n",
    "print(d['2'][1]['Two'][3]['Place'][3])\n"
   ]
  },
  {
   "cell_type": "code",
   "execution_count": 6,
   "metadata": {},
   "outputs": [
    {
     "name": "stdout",
     "output_type": "stream",
     "text": [
      "4\n",
      "9\n",
      "16\n",
      "25\n"
     ]
    }
   ],
   "source": [
    "# 10) Use functions to return square of numbers from 2 to 5\n",
    "def Sq(a,b):\n",
    "    for i in range(a,b):\n",
    "        s=i**2\n",
    "        print(s)\n",
    "Sq(2,6)"
   ]
  },
  {
   "cell_type": "code",
   "execution_count": 12,
   "metadata": {},
   "outputs": [
    {
     "name": "stdout",
     "output_type": "stream",
     "text": [
      "Enter comma seprated numbers= 1,2,5,8,2,8\n",
      "List:  ['1', '2', '5', '8', '2', '8']\n",
      "Tuple:  ('1', '2', '5', '8', '2', '8')\n"
     ]
    }
   ],
   "source": [
    "# 11) Write a Python program which accepts a sequence of comma-separated numbers from user and generate a list and a tuple with those numbers\n",
    "values = input(\"Enter comma seprated numbers= \")\n",
    "l1 = values.split(\",\")\n",
    "t1 = tuple(l1)\n",
    "print('List: ',l1)\n",
    "print('Tuple: ',t1)"
   ]
  },
  {
   "cell_type": "code",
   "execution_count": 13,
   "metadata": {},
   "outputs": [
    {
     "name": "stdout",
     "output_type": "stream",
     "text": [
      "Red Black\n"
     ]
    }
   ],
   "source": [
    "# 12) Write a Python program to display the first and last colors from the following list.\n",
    "color_list = [\"Red\",\"Green\",\"White\" ,\"Black\"]\n",
    "print(color_list[0], color_list[-1])"
   ]
  },
  {
   "cell_type": "code",
   "execution_count": 18,
   "metadata": {},
   "outputs": [
    {
     "name": "stdout",
     "output_type": "stream",
     "text": [
      "Days:  17\n",
      "Total Diff:  17 days, 0:00:00\n"
     ]
    }
   ],
   "source": [
    "# 13) Write a Python program to calculate number of days between two dates.\n",
    "from datetime import date \n",
    "\n",
    "fdate = date(2021,5,3)       #yy,mm,dd\n",
    "ldate = date(2021,5,20)\n",
    "diff = ldate - fdate\n",
    "print(\"Days: \",diff.days)\n",
    "print(\"Total Diff: \",diff)"
   ]
  },
  {
   "cell_type": "code",
   "execution_count": 21,
   "metadata": {},
   "outputs": [
    {
     "name": "stdout",
     "output_type": "stream",
     "text": [
      "Enter no.= 5\n",
      "d=  -12\n"
     ]
    }
   ],
   "source": [
    "# 14)Write a Python program to get the difference between a given number and 17, if the number is greater than 17 return double the absolute difference\n",
    "\n",
    "i = int(input(\"Enter no.= \"))\n",
    "d= i - 17\n",
    "print (\"d= \",d)\n",
    "if(i>17):\n",
    "  print(2* abs(i - 17))"
   ]
  },
  {
   "cell_type": "code",
   "execution_count": 27,
   "metadata": {},
   "outputs": [
    {
     "name": "stdout",
     "output_type": "stream",
     "text": [
      "absent\n"
     ]
    },
    {
     "data": {
      "text/plain": [
       "'\\n#Option2\\nl1=[1,2,3,4,5,6,7,8,9,10]\\nfor i in l1:\\n    if i==9:\\n        flag1=1\\n    else:\\n        flag1=0\\nif flag1==1:\\n    print(\"9 is present\")\\nelse:\\n    print(\"9 is absent\")\\n    \\nfor j in l1:\\n    if j==12:\\n        flag2=1\\n    else:\\n        flag2=0\\nif flag2==1:\\n    print(\"yes\")\\nelse:\\n    print(\"no\")\\n'"
      ]
     },
     "execution_count": 27,
     "metadata": {},
     "output_type": "execute_result"
    }
   ],
   "source": [
    "# 15)To check whather given element exists in list or not?? check if 9 and 12 are present in given list or not\n",
    "l1=[1,2,3,4,5,6,7,8,9,10]\n",
    "l2=[9,12]     #for 9 and 12\n",
    "if l2 in l1:\n",
    "    print(\"present\")\n",
    "else:\n",
    "    print(\"absent\")\n",
    "\n",
    "    \n",
    "'''\n",
    "#Option2\n",
    "l1=[1,2,3,4,5,6,7,8,9,10]\n",
    "for i in l1:\n",
    "    if i==9:\n",
    "        flag1=1\n",
    "    else:\n",
    "        flag1=0\n",
    "if flag1==1:\n",
    "    print(\"9 is present\")\n",
    "else:\n",
    "    print(\"9 is absent\")\n",
    "    \n",
    "for j in l1:\n",
    "    if j==12:\n",
    "        flag2=1\n",
    "    else:\n",
    "        flag2=0\n",
    "if flag2==1:\n",
    "    print(\"yes\")\n",
    "else:\n",
    "    print(\"no\")\n",
    "'''"
   ]
  },
  {
   "cell_type": "code",
   "execution_count": 28,
   "metadata": {},
   "outputs": [
    {
     "data": {
      "text/plain": [
       "(112, -78)"
      ]
     },
     "execution_count": 28,
     "metadata": {},
     "output_type": "execute_result"
    }
   ],
   "source": [
    "# 16) Write a function calculation() such that it can accept two variables and calculate the addition and subtraction of it. And also it must return both addition and subtraction in a single return call\n",
    "\n",
    "def Calculation(x,y):\n",
    "    return(x+y, x-y)\n",
    "\n",
    "Calculation(17,95)"
   ]
  },
  {
   "cell_type": "code",
   "execution_count": 29,
   "metadata": {},
   "outputs": [
    {
     "name": "stdout",
     "output_type": "stream",
     "text": [
      "Stella 9000\n",
      "Toby 19470\n"
     ]
    }
   ],
   "source": [
    "# 17) Create a function showEmployee() in such a way that it should accept employee name, and it’s salary and display both,and if the salary is missing in function call it should show it as 9000\n",
    "\n",
    "def Employee(EName, ESal=9000):\n",
    "  print (EName, ESal)\n",
    "\n",
    "Employee(\"Stella\")\n",
    "Employee(\"Toby\",19470)\n"
   ]
  },
  {
   "cell_type": "code",
   "execution_count": 32,
   "metadata": {},
   "outputs": [
    {
     "data": {
      "text/plain": [
       "55"
      ]
     },
     "execution_count": 32,
     "metadata": {},
     "output_type": "execute_result"
    }
   ],
   "source": [
    "# 18) Write a recursive function to calculate the sum of numbers from 0 to 10\n",
    "def Sum(n):\n",
    "    if n <= 0:\n",
    "       return n\n",
    "    else:\n",
    "       return n + Sum(n-1)\n",
    "Sum(10)"
   ]
  },
  {
   "cell_type": "code",
   "execution_count": 34,
   "metadata": {},
   "outputs": [
    {
     "name": "stdout",
     "output_type": "stream",
     "text": [
      "Even numbers List:  [4, 6, 8, 10, 12, 14, 16, 18, 20, 22, 24, 26, 28, 30]\n",
      "Sum=  238\n"
     ]
    }
   ],
   "source": [
    "# 19) Generate a Python list of all the even numbers between 4 to 30\n",
    "L1=[]\n",
    "s=0\n",
    "for i in range(4,31):\n",
    "    if i%2==0:\n",
    "        L1.append(i)\n",
    "        s=s+i\n",
    "    else:\n",
    "        continue\n",
    "print(\"Even numbers List: \",L1)\n",
    "print(\"Sum= \",s)"
   ]
  },
  {
   "cell_type": "code",
   "execution_count": 40,
   "metadata": {},
   "outputs": [
    {
     "name": "stdout",
     "output_type": "stream",
     "text": [
      "Max element:  8\n"
     ]
    }
   ],
   "source": [
    "# 20) Return the largest item from the given list\n",
    "def FindMax(L1):\n",
    "    max= L1[0]\n",
    "    for i in L1:\n",
    "        if i > max:\n",
    "            max=i\n",
    "    return max\n",
    "\n",
    "L1=[6,1,2,3,4,5,8,0]\n",
    "print (\"Max element: \", FindMax(L1))"
   ]
  },
  {
   "cell_type": "code",
   "execution_count": null,
   "metadata": {},
   "outputs": [],
   "source": []
  }
 ],
 "metadata": {
  "kernelspec": {
   "display_name": "Python 3",
   "language": "python",
   "name": "python3"
  },
  "language_info": {
   "codemirror_mode": {
    "name": "ipython",
    "version": 3
   },
   "file_extension": ".py",
   "mimetype": "text/x-python",
   "name": "python",
   "nbconvert_exporter": "python",
   "pygments_lexer": "ipython3",
   "version": "3.8.5"
  }
 },
 "nbformat": 4,
 "nbformat_minor": 4
}
